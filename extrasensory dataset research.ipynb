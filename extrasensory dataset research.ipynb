{
 "cells": [
  {
   "cell_type": "code",
   "execution_count": 1,
   "id": "07a7af77",
   "metadata": {},
   "outputs": [],
   "source": [
    "import numpy as np\n",
    "import pandas as pd\n",
    "import matplotlib.pyplot as plt\n",
    "import gzip;\n",
    "import scipy.stats\n",
    "from scipy import signal\n",
    "import numpy as np\n",
    "from scipy.optimize import curve_fit\n",
    "import plotly.graph_objs as go\n",
    "from scipy import stats\n",
    "from scipy.stats import kurtosis\n",
    "from scipy.stats import norm  \n",
    "from scipy.stats import skew"
   ]
  },
  {
   "cell_type": "markdown",
   "id": "e8be824f",
   "metadata": {},
   "source": [
    "# Step1 : Reading users data"
   ]
  },
  {
   "cell_type": "code",
   "execution_count": 2,
   "id": "f9d009d2",
   "metadata": {},
   "outputs": [],
   "source": [
    "User0_acc1=np.loadtxt('/Users/user/Desktop/raw_acc/0A986513-7828-4D53-AA1F-E02D6DF9561B/1449601597.m_raw_acc.csv')\n",
    "User0_acc2=np.loadtxt('/Users/user/Desktop/raw_acc/0A986513-7828-4D53-AA1F-E02D6DF9561B/1449601657.m_raw_acc.dat')\n",
    "User0_acc3=np.loadtxt('/Users/user/Desktop/raw_acc/0A986513-7828-4D53-AA1F-E02D6DF9561B/1449601717.m_raw_acc.dat')\n",
    "User0_acc4=np.loadtxt('/Users/user/Desktop/raw_acc/0A986513-7828-4D53-AA1F-E02D6DF9561B/1449601777.m_raw_acc.dat')"
   ]
  },
  {
   "cell_type": "code",
   "execution_count": 3,
   "id": "0087d303",
   "metadata": {},
   "outputs": [],
   "source": [
    "User1_acc1=np.loadtxt('/Users/user/Desktop/raw_acc/0BFC35E2-4817-4865-BFA7-764742302A2D/1445366534.m_raw_acc.dat')\n",
    "User1_acc2=np.loadtxt('/Users/user/Desktop/raw_acc/0BFC35E2-4817-4865-BFA7-764742302A2D/1445366594.m_raw_acc.dat')\n",
    "User1_acc3=np.loadtxt('/Users/user/Desktop/raw_acc/0BFC35E2-4817-4865-BFA7-764742302A2D/1445366674.m_raw_acc.dat')\n",
    "User1_acc4=np.loadtxt('/Users/user/Desktop/raw_acc/0BFC35E2-4817-4865-BFA7-764742302A2D/1445366703.m_raw_acc.dat')"
   ]
  },
  {
   "cell_type": "code",
   "execution_count": 4,
   "id": "48bfc559",
   "metadata": {},
   "outputs": [],
   "source": [
    "User2_acc1=np.loadtxt('/Users/user/Desktop/raw_acc/0E6184E1-90C0-48EE-B25A-F1ECB7B9714E/1448907005.m_raw_acc.dat')\n",
    "User2_acc2=np.loadtxt('/Users/user/Desktop/raw_acc/0E6184E1-90C0-48EE-B25A-F1ECB7B9714E/1448907060.m_raw_acc.dat')\n",
    "User2_acc3=np.loadtxt('/Users/user/Desktop/raw_acc/0E6184E1-90C0-48EE-B25A-F1ECB7B9714E/1448907120.m_raw_acc.dat')\n",
    "User2_acc4=np.loadtxt('/Users/user/Desktop/raw_acc/0E6184E1-90C0-48EE-B25A-F1ECB7B9714E/1448907331.m_raw_acc.dat')"
   ]
  },
  {
   "cell_type": "code",
   "execution_count": 5,
   "id": "aee02626",
   "metadata": {},
   "outputs": [],
   "source": [
    "User3_acc1=np.loadtxt('/Users/user/Desktop/raw_acc/00EABED2-271D-49D8-B599-1D4A09240601/1444079161.m_raw_acc.dat')\n",
    "User3_acc2=np.loadtxt('/Users/user/Desktop/raw_acc/00EABED2-271D-49D8-B599-1D4A09240601/1444079221.m_raw_acc.dat')\n",
    "User3_acc3=np.loadtxt('/Users/user/Desktop/raw_acc/00EABED2-271D-49D8-B599-1D4A09240601/1444079281.m_raw_acc.dat')\n",
    "User3_acc4=np.loadtxt('/Users/user/Desktop/raw_acc/00EABED2-271D-49D8-B599-1D4A09240601/1444079341.m_raw_acc.dat')"
   ]
  },
  {
   "cell_type": "code",
   "execution_count": 6,
   "id": "cf11cba0",
   "metadata": {},
   "outputs": [],
   "source": [
    "User4_acc1=np.loadtxt('/Users/user/Desktop/raw_acc/1DBB0F6F-1F81-4A50-9DF4-CD62ACFA4842/1440627472.m_raw_acc.dat')\n",
    "User4_acc2=np.loadtxt('/Users/user/Desktop/raw_acc/1DBB0F6F-1F81-4A50-9DF4-CD62ACFA4842/1440627533.m_raw_acc.dat')\n",
    "User4_acc3=np.loadtxt('/Users/user/Desktop/raw_acc/1DBB0F6F-1F81-4A50-9DF4-CD62ACFA4842/1440627593.m_raw_acc.dat')\n",
    "User4_acc4=np.loadtxt('/Users/user/Desktop/raw_acc/1DBB0F6F-1F81-4A50-9DF4-CD62ACFA4842/1440627654.m_raw_acc.dat')"
   ]
  },
  {
   "cell_type": "code",
   "execution_count": 7,
   "id": "f854530f",
   "metadata": {},
   "outputs": [],
   "source": [
    "User5_acc1=np.loadtxt('/Users/user/Desktop/raw_acc/2C32C23E-E30C-498A-8DD2-0EFB9150A02E/1439590067.m_raw_acc.dat')\n",
    "User5_acc2=np.loadtxt('/Users/user/Desktop/raw_acc/2C32C23E-E30C-498A-8DD2-0EFB9150A02E/1439590128.m_raw_acc.dat')\n",
    "User5_acc3=np.loadtxt('/Users/user/Desktop/raw_acc/2C32C23E-E30C-498A-8DD2-0EFB9150A02E/1439590188.m_raw_acc.dat')\n",
    "User5_acc4=np.loadtxt('/Users/user/Desktop/raw_acc/2C32C23E-E30C-498A-8DD2-0EFB9150A02E/1439590248.m_raw_acc.dat')"
   ]
  },
  {
   "cell_type": "code",
   "execution_count": 8,
   "id": "4c58dda2",
   "metadata": {},
   "outputs": [],
   "source": [
    "User6_acc1=np.loadtxt('/Users/user/Desktop/raw_acc/4E98F91F-4654-42EF-B908-A3389443F2E7/1446750638.m_raw_acc.dat')\n",
    "User6_acc2=np.loadtxt('/Users/user/Desktop/raw_acc/4E98F91F-4654-42EF-B908-A3389443F2E7/1446750720.m_raw_acc.dat')\n",
    "User6_acc3=np.loadtxt('/Users/user/Desktop/raw_acc/4E98F91F-4654-42EF-B908-A3389443F2E7/1446750749.m_raw_acc.dat')\n",
    "User6_acc4=np.loadtxt('/Users/user/Desktop/raw_acc/4E98F91F-4654-42EF-B908-A3389443F2E7/1446750811.m_raw_acc.dat')"
   ]
  },
  {
   "cell_type": "code",
   "execution_count": 9,
   "id": "638cc8da",
   "metadata": {},
   "outputs": [],
   "source": [
    "User7_acc1=np.loadtxt('/Users/user/Desktop/raw_acc/4FC32141-E888-4BFF-8804-12559A491D8C/1440004129.m_raw_acc.dat')\n",
    "User7_acc2=np.loadtxt('/Users/user/Desktop/raw_acc/4FC32141-E888-4BFF-8804-12559A491D8C/1440004190.m_raw_acc.dat')\n",
    "User7_acc3=np.loadtxt('/Users/user/Desktop/raw_acc/4FC32141-E888-4BFF-8804-12559A491D8C/1440004250.m_raw_acc.dat')\n",
    "User7_acc4=np.loadtxt('/Users/user/Desktop/raw_acc/4FC32141-E888-4BFF-8804-12559A491D8C/1440004310.m_raw_acc.dat')"
   ]
  },
  {
   "cell_type": "code",
   "execution_count": 10,
   "id": "4bfc56d7",
   "metadata": {},
   "outputs": [],
   "source": [
    "User8_acc1=np.loadtxt('/Users/user/Desktop/raw_acc/5EF64122-B513-46AE-BCF1-E62AAC285D2C/1442423219.m_raw_acc.dat')\n",
    "User8_acc2=np.loadtxt('/Users/user/Desktop/raw_acc/5EF64122-B513-46AE-BCF1-E62AAC285D2C/1442423284.m_raw_acc.dat')\n",
    "User8_acc3=np.loadtxt('/Users/user/Desktop/raw_acc/5EF64122-B513-46AE-BCF1-E62AAC285D2C/1442423341.m_raw_acc.dat')\n",
    "User8_acc4=np.loadtxt('/Users/user/Desktop/raw_acc/5EF64122-B513-46AE-BCF1-E62AAC285D2C/1442423401.m_raw_acc.dat')"
   ]
  },
  {
   "cell_type": "code",
   "execution_count": 11,
   "id": "d39e91be",
   "metadata": {},
   "outputs": [],
   "source": [
    "User9_acc1=np.loadtxt('/Users/user/Desktop/raw_acc/7CE37510-56D0-4120-A1CF-0E23351428D2/1444251682.m_raw_acc.dat')\n",
    "User9_acc2=np.loadtxt('/Users/user/Desktop/raw_acc/7CE37510-56D0-4120-A1CF-0E23351428D2/1444251743.m_raw_acc.dat')\n",
    "User9_acc3=np.loadtxt('/Users/user/Desktop/raw_acc/7CE37510-56D0-4120-A1CF-0E23351428D2/1444251803.m_raw_acc.dat')\n",
    "User9_acc4=np.loadtxt('/Users/user/Desktop/raw_acc/7CE37510-56D0-4120-A1CF-0E23351428D2/1444251863.m_raw_acc.dat')"
   ]
  },
  {
   "cell_type": "code",
   "execution_count": 12,
   "id": "7a59428b",
   "metadata": {},
   "outputs": [],
   "source": [
    "User10_acc1=np.loadtxt('/Users/user/Desktop/raw_acc/7D9BB102-A612-4E2A-8E22-3159752F55D8/1447724713.m_raw_acc.dat')\n",
    "User10_acc2=np.loadtxt('/Users/user/Desktop/raw_acc/7D9BB102-A612-4E2A-8E22-3159752F55D8/1447724774.m_raw_acc.dat')\n",
    "User10_acc3=np.loadtxt('/Users/user/Desktop/raw_acc/7D9BB102-A612-4E2A-8E22-3159752F55D8/1447724834.m_raw_acc.dat')\n",
    "User10_acc4=np.loadtxt('/Users/user/Desktop/raw_acc/7D9BB102-A612-4E2A-8E22-3159752F55D8/1447724932.m_raw_acc.dat')"
   ]
  },
  {
   "cell_type": "code",
   "execution_count": 13,
   "id": "661cb2a3",
   "metadata": {},
   "outputs": [],
   "source": [
    "User11_acc1=np.loadtxt('/Users/user/Desktop/raw_acc/9DC38D04-E82E-4F29-AB52-B476535226F2/1448922048.m_raw_acc.dat')\n",
    "User11_acc2=np.loadtxt('/Users/user/Desktop/raw_acc/9DC38D04-E82E-4F29-AB52-B476535226F2/1448922109.m_raw_acc.dat')\n",
    "User11_acc3=np.loadtxt('/Users/user/Desktop/raw_acc/9DC38D04-E82E-4F29-AB52-B476535226F2/1448922169.m_raw_acc.dat')\n",
    "User11_acc4=np.loadtxt('/Users/user/Desktop/raw_acc/9DC38D04-E82E-4F29-AB52-B476535226F2/1448922465.m_raw_acc.dat')"
   ]
  },
  {
   "cell_type": "code",
   "execution_count": 14,
   "id": "97b38e04",
   "metadata": {},
   "outputs": [],
   "source": [
    "User12_acc1=np.loadtxt('/Users/user/Desktop/raw_acc/11B5EC4D-4133-4289-B475-4E737182A406/1440000455.m_raw_acc.dat')\n",
    "User12_acc2=np.loadtxt('/Users/user/Desktop/raw_acc/11B5EC4D-4133-4289-B475-4E737182A406/1440000515.m_raw_acc.dat')\n",
    "User12_acc3=np.loadtxt('/Users/user/Desktop/raw_acc/11B5EC4D-4133-4289-B475-4E737182A406/1440000575.m_raw_acc.dat')\n",
    "User12_acc4=np.loadtxt('/Users/user/Desktop/raw_acc/11B5EC4D-4133-4289-B475-4E737182A406/1440000635.m_raw_acc.dat')"
   ]
  },
  {
   "cell_type": "code",
   "execution_count": 15,
   "id": "f229f3db",
   "metadata": {},
   "outputs": [],
   "source": [
    "User13_acc1=np.loadtxt('/Users/user/Desktop/raw_acc/24E40C4C-A349-4F9F-93AB-01D00FB994AF/1445452132.m_raw_acc.dat')\n",
    "User13_acc2=np.loadtxt('/Users/user/Desktop/raw_acc/24E40C4C-A349-4F9F-93AB-01D00FB994AF/1445452192.m_raw_acc.dat')\n",
    "User13_acc3=np.loadtxt('/Users/user/Desktop/raw_acc/24E40C4C-A349-4F9F-93AB-01D00FB994AF/1445452584.m_raw_acc.dat')\n",
    "User13_acc4=np.loadtxt('/Users/user/Desktop/raw_acc/24E40C4C-A349-4F9F-93AB-01D00FB994AF/1445452645.m_raw_acc.dat')"
   ]
  },
  {
   "cell_type": "code",
   "execution_count": 16,
   "id": "dd7633ae",
   "metadata": {},
   "outputs": [],
   "source": [
    "User14_acc1=np.loadtxt('/Users/user/Desktop/raw_acc/27E04243-B138-4F40-A164-F40B60165CF3/1448316686.m_raw_acc.dat')\n",
    "User14_acc2=np.loadtxt('/Users/user/Desktop/raw_acc/27E04243-B138-4F40-A164-F40B60165CF3/1448316751.m_raw_acc.dat')\n",
    "User14_acc3=np.loadtxt('/Users/user/Desktop/raw_acc/27E04243-B138-4F40-A164-F40B60165CF3/1448316817.m_raw_acc.dat')\n",
    "User14_acc4=np.loadtxt('/Users/user/Desktop/raw_acc/27E04243-B138-4F40-A164-F40B60165CF3/1448316863.m_raw_acc.dat')"
   ]
  },
  {
   "cell_type": "code",
   "execution_count": 17,
   "id": "8e1dfe36",
   "metadata": {},
   "outputs": [],
   "source": [
    "User15_acc1=np.loadtxt('/Users/user/Desktop/raw_acc/33A85C34-CFE4-4732-9E73-0A7AC861B27A/1441314267.m_raw_acc.dat')\n",
    "User15_acc2=np.loadtxt('/Users/user/Desktop/raw_acc/33A85C34-CFE4-4732-9E73-0A7AC861B27A/1441314369.m_raw_acc.dat')\n",
    "User15_acc3=np.loadtxt('/Users/user/Desktop/raw_acc/33A85C34-CFE4-4732-9E73-0A7AC861B27A/1441314456.m_raw_acc.dat')\n",
    "User15_acc4=np.loadtxt('/Users/user/Desktop/raw_acc/33A85C34-CFE4-4732-9E73-0A7AC861B27A/1441314490.m_raw_acc.dat')"
   ]
  },
  {
   "cell_type": "code",
   "execution_count": 18,
   "id": "fc5edc12",
   "metadata": {},
   "outputs": [],
   "source": [
    "User16_acc1=np.loadtxt('/Users/user/Desktop/raw_acc/40E170A7-607B-4578-AF04-F021C3B0384A/1450127451.m_raw_acc.dat')\n",
    "User16_acc2=np.loadtxt('/Users/user/Desktop/raw_acc/40E170A7-607B-4578-AF04-F021C3B0384A/1450127538.m_raw_acc.dat')\n",
    "User16_acc3=np.loadtxt('/Users/user/Desktop/raw_acc/40E170A7-607B-4578-AF04-F021C3B0384A/1450127687.m_raw_acc.dat')\n",
    "User16_acc4=np.loadtxt('/Users/user/Desktop/raw_acc/40E170A7-607B-4578-AF04-F021C3B0384A/1450127769.m_raw_acc.dat')"
   ]
  },
  {
   "cell_type": "code",
   "execution_count": 19,
   "id": "b18cfb2a",
   "metadata": {},
   "outputs": [],
   "source": [
    "User17_acc1=np.loadtxt('/Users/user/Desktop/raw_acc/59EEFAE0-DEB0-4FFF-9250-54D2A03D0CF2/1464303710.m_raw_acc.dat')\n",
    "User17_acc2=np.loadtxt('/Users/user/Desktop/raw_acc/59EEFAE0-DEB0-4FFF-9250-54D2A03D0CF2/1464303786.m_raw_acc.dat')\n",
    "User17_acc3=np.loadtxt('/Users/user/Desktop/raw_acc/59EEFAE0-DEB0-4FFF-9250-54D2A03D0CF2/1464303847.m_raw_acc.dat')\n",
    "User17_acc4=np.loadtxt('/Users/user/Desktop/raw_acc/59EEFAE0-DEB0-4FFF-9250-54D2A03D0CF2/1464303922.m_raw_acc.dat')"
   ]
  },
  {
   "cell_type": "code",
   "execution_count": 20,
   "id": "a70a4656",
   "metadata": {},
   "outputs": [],
   "source": [
    "User18_acc1=np.loadtxt('/Users/user/Desktop/raw_acc/74B86067-5D4B-43CF-82CF-341B76BEA0F4/1441303601.m_raw_acc.dat')\n",
    "User18_acc2=np.loadtxt('/Users/user/Desktop/raw_acc/74B86067-5D4B-43CF-82CF-341B76BEA0F4/1441303711.m_raw_acc.dat')\n",
    "User18_acc3=np.loadtxt('/Users/user/Desktop/raw_acc/74B86067-5D4B-43CF-82CF-341B76BEA0F4/1441303771.m_raw_acc.dat')\n",
    "User18_acc4=np.loadtxt('/Users/user/Desktop/raw_acc/74B86067-5D4B-43CF-82CF-341B76BEA0F4/1441303832.m_raw_acc.dat')"
   ]
  },
  {
   "cell_type": "code",
   "execution_count": 21,
   "id": "e2ee9c61",
   "metadata": {},
   "outputs": [],
   "source": [
    "User19_acc1=np.loadtxt('/Users/user/Desktop/raw_acc/78A91A4E-4A51-4065-BDA7-94755F0BB3BB/1449009040.m_raw_acc.dat')\n",
    "User19_acc2=np.loadtxt('/Users/user/Desktop/raw_acc/78A91A4E-4A51-4065-BDA7-94755F0BB3BB/1449009101.m_raw_acc.dat')\n",
    "User19_acc3=np.loadtxt('/Users/user/Desktop/raw_acc/78A91A4E-4A51-4065-BDA7-94755F0BB3BB/1449009161.m_raw_acc.dat')\n",
    "User19_acc4=np.loadtxt('/Users/user/Desktop/raw_acc/78A91A4E-4A51-4065-BDA7-94755F0BB3BB/1449009221.m_raw_acc.dat')"
   ]
  },
  {
   "cell_type": "code",
   "execution_count": 22,
   "id": "06c61c4a",
   "metadata": {},
   "outputs": [],
   "source": [
    "User20_acc1=np.loadtxt('/Users/user/Desktop/raw_acc/83CF687B-7CEC-434B-9FE8-00C3D5799BE6/1449511099.m_raw_acc.dat')\n",
    "User20_acc2=np.loadtxt('/Users/user/Desktop/raw_acc/83CF687B-7CEC-434B-9FE8-00C3D5799BE6/1449511160.m_raw_acc.dat')\n",
    "User20_acc3=np.loadtxt('/Users/user/Desktop/raw_acc/83CF687B-7CEC-434B-9FE8-00C3D5799BE6/1449511220.m_raw_acc.dat')\n",
    "User20_acc4=np.loadtxt('/Users/user/Desktop/raw_acc/83CF687B-7CEC-434B-9FE8-00C3D5799BE6/1449511280.m_raw_acc.dat')"
   ]
  },
  {
   "cell_type": "code",
   "execution_count": 23,
   "id": "f4921044",
   "metadata": {},
   "outputs": [],
   "source": [
    "User21_acc1=np.loadtxt('/Users/user/Desktop/raw_acc/86A4F379-B305-473D-9D83-FC7D800180EF/1440274725.m_raw_acc.dat')\n",
    "User21_acc2=np.loadtxt('/Users/user/Desktop/raw_acc/86A4F379-B305-473D-9D83-FC7D800180EF/1440274803.m_raw_acc.dat')\n",
    "User21_acc3=np.loadtxt('/Users/user/Desktop/raw_acc/86A4F379-B305-473D-9D83-FC7D800180EF/1440274839.m_raw_acc.dat')\n",
    "User21_acc4=np.loadtxt('/Users/user/Desktop/raw_acc/86A4F379-B305-473D-9D83-FC7D800180EF/1440274905.m_raw_acc.dat')"
   ]
  },
  {
   "cell_type": "code",
   "execution_count": 24,
   "id": "b6049db7",
   "metadata": {},
   "outputs": [],
   "source": [
    "User22_acc1=np.loadtxt('/Users/user/Desktop/raw_acc/96A358A0-FFF2-4239-B93E-C7425B901B47/1448482210.m_raw_acc.dat')\n",
    "User22_acc2=np.loadtxt('/Users/user/Desktop/raw_acc/96A358A0-FFF2-4239-B93E-C7425B901B47/1448482372.m_raw_acc.dat')\n",
    "User22_acc3=np.loadtxt('/Users/user/Desktop/raw_acc/96A358A0-FFF2-4239-B93E-C7425B901B47/1448482402.m_raw_acc.dat')\n",
    "User22_acc4=np.loadtxt('/Users/user/Desktop/raw_acc/96A358A0-FFF2-4239-B93E-C7425B901B47/1448482449.m_raw_acc.dat')"
   ]
  },
  {
   "cell_type": "code",
   "execution_count": 25,
   "id": "e2e13546",
   "metadata": {},
   "outputs": [],
   "source": [
    "User23_acc1=np.loadtxt('/Users/user/Desktop/raw_acc/098A72A5-E3E5-4F54-A152-BBDA0DF7B694/1438708458.m_raw_acc.dat')\n",
    "User23_acc2=np.loadtxt('/Users/user/Desktop/raw_acc/098A72A5-E3E5-4F54-A152-BBDA0DF7B694/1438708527.m_raw_acc.dat')\n",
    "User23_acc3=np.loadtxt('/Users/user/Desktop/raw_acc/098A72A5-E3E5-4F54-A152-BBDA0DF7B694/1438708579.m_raw_acc.dat')\n",
    "User23_acc4=np.loadtxt('/Users/user/Desktop/raw_acc/098A72A5-E3E5-4F54-A152-BBDA0DF7B694/1438708638.m_raw_acc.dat')"
   ]
  },
  {
   "cell_type": "code",
   "execution_count": 26,
   "id": "e91bac51",
   "metadata": {},
   "outputs": [],
   "source": [
    "User24_acc1=np.loadtxt('/Users/user/Desktop/raw_acc/99B204C0-DD5C-4BB7-83E8-A37281B8D769/1444339547.m_raw_acc.dat')\n",
    "User24_acc2=np.loadtxt('/Users/user/Desktop/raw_acc/99B204C0-DD5C-4BB7-83E8-A37281B8D769/1444339597.m_raw_acc.dat')\n",
    "User24_acc3=np.loadtxt('/Users/user/Desktop/raw_acc/99B204C0-DD5C-4BB7-83E8-A37281B8D769/1444339657.m_raw_acc.dat')\n",
    "User24_acc4=np.loadtxt('/Users/user/Desktop/raw_acc/99B204C0-DD5C-4BB7-83E8-A37281B8D769/1444339765.m_raw_acc.dat')"
   ]
  },
  {
   "cell_type": "code",
   "execution_count": 27,
   "id": "6bb03589",
   "metadata": {},
   "outputs": [],
   "source": [
    "User25_acc1=np.loadtxt('/Users/user/Desktop/raw_acc/481F4DD2-7689-43B9-A2AA-C8772227162B/1464121019.m_raw_acc.dat')\n",
    "User25_acc2=np.loadtxt('/Users/user/Desktop/raw_acc/481F4DD2-7689-43B9-A2AA-C8772227162B/1464121067.m_raw_acc.dat')\n",
    "User25_acc3=np.loadtxt('/Users/user/Desktop/raw_acc/481F4DD2-7689-43B9-A2AA-C8772227162B/1464121796.m_raw_acc.dat')\n",
    "User25_acc4=np.loadtxt('/Users/user/Desktop/raw_acc/481F4DD2-7689-43B9-A2AA-C8772227162B/1464121851.m_raw_acc.dat')"
   ]
  },
  {
   "cell_type": "code",
   "execution_count": 28,
   "id": "8658616f",
   "metadata": {},
   "outputs": [],
   "source": [
    "User26_acc1=np.loadtxt('/Users/user/Desktop/raw_acc/797D145F-3858-4A7F-A7C2-A4EB721E133C/1449877990.m_raw_acc.dat')\n",
    "User26_acc2=np.loadtxt('/Users/user/Desktop/raw_acc/797D145F-3858-4A7F-A7C2-A4EB721E133C/1449878081.m_raw_acc.dat')\n",
    "User26_acc3=np.loadtxt('/Users/user/Desktop/raw_acc/797D145F-3858-4A7F-A7C2-A4EB721E133C/1449878135.m_raw_acc.dat')\n",
    "User26_acc4=np.loadtxt('/Users/user/Desktop/raw_acc/797D145F-3858-4A7F-A7C2-A4EB721E133C/1449878169.m_raw_acc.dat')"
   ]
  },
  {
   "cell_type": "code",
   "execution_count": 29,
   "id": "d0473bba",
   "metadata": {},
   "outputs": [],
   "source": [
    "User27_acc1=np.loadtxt('/Users/user/Desktop/raw_acc/1155FF54-63D3-4AB2-9863-8385D0BD0A13/1464129912.m_raw_acc.dat')\n",
    "User27_acc2=np.loadtxt('/Users/user/Desktop/raw_acc/1155FF54-63D3-4AB2-9863-8385D0BD0A13/1464129950.m_raw_acc.dat')\n",
    "User27_acc3=np.loadtxt('/Users/user/Desktop/raw_acc/1155FF54-63D3-4AB2-9863-8385D0BD0A13/1464130031.m_raw_acc.dat')\n",
    "User27_acc4=np.loadtxt('/Users/user/Desktop/raw_acc/1155FF54-63D3-4AB2-9863-8385D0BD0A13/1464130109.m_raw_acc.dat')"
   ]
  },
  {
   "cell_type": "code",
   "execution_count": 30,
   "id": "38ecf8fd",
   "metadata": {},
   "outputs": [],
   "source": [
    "User28_acc1=np.loadtxt('/Users/user/Desktop/raw_acc/1538C99F-BA1E-4EFB-A949-6C7C47701B20/1445379289.m_raw_acc.dat')\n",
    "User28_acc2=np.loadtxt('/Users/user/Desktop/raw_acc/1538C99F-BA1E-4EFB-A949-6C7C47701B20/1445379827.m_raw_acc.dat')\n",
    "User28_acc3=np.loadtxt('/Users/user/Desktop/raw_acc/1538C99F-BA1E-4EFB-A949-6C7C47701B20/1445379887.m_raw_acc.dat')\n",
    "User28_acc4=np.loadtxt('/Users/user/Desktop/raw_acc/1538C99F-BA1E-4EFB-A949-6C7C47701B20/1445380018.m_raw_acc.dat')"
   ]
  },
  {
   "cell_type": "code",
   "execution_count": 31,
   "id": "ac08e5d0",
   "metadata": {},
   "outputs": [],
   "source": [
    "User29_acc1=np.loadtxt('/Users/user/Desktop/raw_acc/3600D531-0C55-44A7-AE95-A7A38519464E/1446679890.m_raw_acc.dat')\n",
    "User29_acc2=np.loadtxt('/Users/user/Desktop/raw_acc/3600D531-0C55-44A7-AE95-A7A38519464E/1446679951.m_raw_acc.dat')\n",
    "User29_acc3=np.loadtxt('/Users/user/Desktop/raw_acc/3600D531-0C55-44A7-AE95-A7A38519464E/1446680319.m_raw_acc.dat')\n",
    "User29_acc4=np.loadtxt('/Users/user/Desktop/raw_acc/3600D531-0C55-44A7-AE95-A7A38519464E/1446680380.m_raw_acc.dat')"
   ]
  },
  {
   "cell_type": "code",
   "execution_count": 32,
   "id": "3ac10b0e",
   "metadata": {},
   "outputs": [],
   "source": [
    "User30_acc1=np.loadtxt('/Users/user/Desktop/raw_acc/5119D0F8-FCA8-4184-A4EB-19421A40DE0D/1443038776.m_raw_acc.dat')\n",
    "User30_acc2=np.loadtxt('/Users/user/Desktop/raw_acc/5119D0F8-FCA8-4184-A4EB-19421A40DE0D/1443038837.m_raw_acc.dat')\n",
    "User30_acc3=np.loadtxt('/Users/user/Desktop/raw_acc/5119D0F8-FCA8-4184-A4EB-19421A40DE0D/1443038894.m_raw_acc.dat')\n",
    "User30_acc4=np.loadtxt('/Users/user/Desktop/raw_acc/5119D0F8-FCA8-4184-A4EB-19421A40DE0D/1443038954.m_raw_acc.dat')"
   ]
  },
  {
   "cell_type": "code",
   "execution_count": 33,
   "id": "31637db6",
   "metadata": {},
   "outputs": [],
   "source": [
    "User31_acc1=np.loadtxt('/Users/user/Desktop/raw_acc/5152A2DF-FAF3-4BA8-9CA9-E66B32671A53/1443043074.m_raw_acc.dat')\n",
    "User31_acc2=np.loadtxt('/Users/user/Desktop/raw_acc/5152A2DF-FAF3-4BA8-9CA9-E66B32671A53/1443043135.m_raw_acc.dat')\n",
    "User31_acc3=np.loadtxt('/Users/user/Desktop/raw_acc/5152A2DF-FAF3-4BA8-9CA9-E66B32671A53/1443043186.m_raw_acc.dat')\n",
    "User31_acc4=np.loadtxt('/Users/user/Desktop/raw_acc/5152A2DF-FAF3-4BA8-9CA9-E66B32671A53/1443043246.m_raw_acc.dat')"
   ]
  },
  {
   "cell_type": "code",
   "execution_count": 34,
   "id": "63daa0e6",
   "metadata": {},
   "outputs": [],
   "source": [
    "User32_acc1=np.loadtxt('/Users/user/Desktop/raw_acc/8023FE1A-D3B0-4E2C-A57A-9321B7FC755F/1445989902.m_raw_acc.dat')\n",
    "User32_acc2=np.loadtxt('/Users/user/Desktop/raw_acc/8023FE1A-D3B0-4E2C-A57A-9321B7FC755F/1445989963.m_raw_acc.dat')\n",
    "User32_acc3=np.loadtxt('/Users/user/Desktop/raw_acc/8023FE1A-D3B0-4E2C-A57A-9321B7FC755F/1445990023.m_raw_acc.dat')\n",
    "User32_acc4=np.loadtxt('/Users/user/Desktop/raw_acc/8023FE1A-D3B0-4E2C-A57A-9321B7FC755F/1445990083.m_raw_acc.dat')"
   ]
  },
  {
   "cell_type": "code",
   "execution_count": 35,
   "id": "6270276f",
   "metadata": {},
   "outputs": [],
   "source": [
    "User33_acc1=np.loadtxt('/Users/user/Desktop/raw_acc/59818CD2-24D7-4D32-B133-24C2FE3801E5/1464302284.m_raw_acc.dat')\n",
    "User33_acc2=np.loadtxt('/Users/user/Desktop/raw_acc/59818CD2-24D7-4D32-B133-24C2FE3801E5/1464302341.m_raw_acc.dat')\n",
    "User33_acc3=np.loadtxt('/Users/user/Desktop/raw_acc/59818CD2-24D7-4D32-B133-24C2FE3801E5/1464302394.m_raw_acc.dat')\n",
    "User33_acc4=np.loadtxt('/Users/user/Desktop/raw_acc/59818CD2-24D7-4D32-B133-24C2FE3801E5/1464302461.m_raw_acc.dat')"
   ]
  },
  {
   "cell_type": "code",
   "execution_count": 36,
   "id": "e61cf2bd",
   "metadata": {},
   "outputs": [],
   "source": [
    "User34_acc1=np.loadtxt('/Users/user/Desktop/raw_acc/61976C24-1C50-4355-9C49-AAE44A7D09F6/1433537341.m_raw_acc.dat')\n",
    "User34_acc2=np.loadtxt('/Users/user/Desktop/raw_acc/61976C24-1C50-4355-9C49-AAE44A7D09F6/1433537402.m_raw_acc.dat')\n",
    "User34_acc3=np.loadtxt('/Users/user/Desktop/raw_acc/61976C24-1C50-4355-9C49-AAE44A7D09F6/1433537462.m_raw_acc.dat')\n",
    "User34_acc4=np.loadtxt('/Users/user/Desktop/raw_acc/61976C24-1C50-4355-9C49-AAE44A7D09F6/1433537522.m_raw_acc.dat')"
   ]
  },
  {
   "cell_type": "code",
   "execution_count": 37,
   "id": "8395d010",
   "metadata": {},
   "outputs": [],
   "source": [
    "User35_acc1=np.loadtxt('/Users/user/Desktop/raw_acc/81536B0A-8DBF-4D8A-AC24-9543E2E4C8E0/1446141691.m_raw_acc.dat')\n",
    "User35_acc2=np.loadtxt('/Users/user/Desktop/raw_acc/81536B0A-8DBF-4D8A-AC24-9543E2E4C8E0/1446141752.m_raw_acc.dat')\n",
    "User35_acc3=np.loadtxt('/Users/user/Desktop/raw_acc/81536B0A-8DBF-4D8A-AC24-9543E2E4C8E0/1446141805.m_raw_acc.dat')\n",
    "User35_acc4=np.loadtxt('/Users/user/Desktop/raw_acc/81536B0A-8DBF-4D8A-AC24-9543E2E4C8E0/1446141873.m_raw_acc.dat')"
   ]
  },
  {
   "cell_type": "code",
   "execution_count": 38,
   "id": "292dd47e",
   "metadata": {},
   "outputs": [],
   "source": [
    "User36_acc1=np.loadtxt('/Users/user/Desktop/raw_acc/136562B6-95B2-483D-88DC-065F28409FD2/1439926672.m_raw_acc.dat')\n",
    "User36_acc2=np.loadtxt('/Users/user/Desktop/raw_acc/136562B6-95B2-483D-88DC-065F28409FD2/1439926732.m_raw_acc.dat')\n",
    "User36_acc3=np.loadtxt('/Users/user/Desktop/raw_acc/136562B6-95B2-483D-88DC-065F28409FD2/1439926792.m_raw_acc.dat')\n",
    "User36_acc4=np.loadtxt('/Users/user/Desktop/raw_acc/136562B6-95B2-483D-88DC-065F28409FD2/1439926852.m_raw_acc.dat')"
   ]
  },
  {
   "cell_type": "code",
   "execution_count": 39,
   "id": "51535803",
   "metadata": {},
   "outputs": [],
   "source": [
    "User37_acc1=np.loadtxt('/Users/user/Desktop/raw_acc/665514DE-49DC-421F-8DCB-145D0B2609AD/1449177721.m_raw_acc.dat')\n",
    "User37_acc2=np.loadtxt('/Users/user/Desktop/raw_acc/665514DE-49DC-421F-8DCB-145D0B2609AD/1449177781.m_raw_acc.dat')\n",
    "User37_acc3=np.loadtxt('/Users/user/Desktop/raw_acc/665514DE-49DC-421F-8DCB-145D0B2609AD/1449177847.m_raw_acc.dat')\n",
    "User37_acc4=np.loadtxt('/Users/user/Desktop/raw_acc/665514DE-49DC-421F-8DCB-145D0B2609AD/1449177916.m_raw_acc.dat')"
   ]
  },
  {
   "cell_type": "code",
   "execution_count": 40,
   "id": "b006aee2",
   "metadata": {},
   "outputs": [],
   "source": [
    "User38_acc1=np.loadtxt('/Users/user/Desktop/raw_acc/806289BC-AD52-4CC1-806C-0CDB14D65EB6/1448303626.m_raw_acc.dat')\n",
    "User38_acc2=np.loadtxt('/Users/user/Desktop/raw_acc/806289BC-AD52-4CC1-806C-0CDB14D65EB6/1448303712.m_raw_acc.dat')\n",
    "User38_acc3=np.loadtxt('/Users/user/Desktop/raw_acc/806289BC-AD52-4CC1-806C-0CDB14D65EB6/1448303730.m_raw_acc.dat')\n",
    "User38_acc4=np.loadtxt('/Users/user/Desktop/raw_acc/806289BC-AD52-4CC1-806C-0CDB14D65EB6/1448303798.m_raw_acc.dat')"
   ]
  },
  {
   "cell_type": "code",
   "execution_count": 41,
   "id": "c2a318ea",
   "metadata": {},
   "outputs": [],
   "source": [
    "User39_acc1=np.loadtxt('/Users/user/Desktop/raw_acc/9759096F-1119-4E19-A0AD-6F16989C7E1C/1441736514.m_raw_acc.dat')\n",
    "User39_acc2=np.loadtxt('/Users/user/Desktop/raw_acc/9759096F-1119-4E19-A0AD-6F16989C7E1C/1441736574.m_raw_acc.dat')\n",
    "User39_acc3=np.loadtxt('/Users/user/Desktop/raw_acc/9759096F-1119-4E19-A0AD-6F16989C7E1C/1441736634.m_raw_acc.dat')\n",
    "User39_acc4=np.loadtxt('/Users/user/Desktop/raw_acc/9759096F-1119-4E19-A0AD-6F16989C7E1C/1441736694.m_raw_acc.dat')"
   ]
  },
  {
   "cell_type": "code",
   "execution_count": 42,
   "id": "4af30773",
   "metadata": {},
   "outputs": [],
   "source": [
    "User40_acc1=np.loadtxt('/Users/user/Desktop/raw_acc/61359772-D8D8-480D-B623-7C636EAD0C81/1444923638.m_raw_acc.dat')\n",
    "User40_acc2=np.loadtxt('/Users/user/Desktop/raw_acc/61359772-D8D8-480D-B623-7C636EAD0C81/1444923689.m_raw_acc.dat')\n",
    "User40_acc3=np.loadtxt('/Users/user/Desktop/raw_acc/61359772-D8D8-480D-B623-7C636EAD0C81/1444923749.m_raw_acc.dat')\n",
    "User40_acc4=np.loadtxt('/Users/user/Desktop/raw_acc/61359772-D8D8-480D-B623-7C636EAD0C81/1444923809.m_raw_acc.dat')"
   ]
  },
  {
   "cell_type": "code",
   "execution_count": 43,
   "id": "3e3114fc",
   "metadata": {},
   "outputs": [],
   "source": [
    "User41_acc1=np.loadtxt('/Users/user/Desktop/raw_acc/A5A30F76-581E-4757-97A2-957553A2C6AA/1437680357.m_raw_acc.dat')\n",
    "User41_acc2=np.loadtxt('/Users/user/Desktop/raw_acc/A5A30F76-581E-4757-97A2-957553A2C6AA/1437680405.m_raw_acc.dat')\n",
    "User41_acc3=np.loadtxt('/Users/user/Desktop/raw_acc/A5A30F76-581E-4757-97A2-957553A2C6AA/1437680465.m_raw_acc.dat')\n",
    "User41_acc4=np.loadtxt('/Users/user/Desktop/raw_acc/A5A30F76-581E-4757-97A2-957553A2C6AA/1437680526.m_raw_acc.dat')"
   ]
  },
  {
   "cell_type": "code",
   "execution_count": 44,
   "id": "48e2bef1",
   "metadata": {},
   "outputs": [],
   "source": [
    "User42_acc1=np.loadtxt('/Users/user/Desktop/raw_acc/A5CDF89D-02A2-4EC1-89F8-F534FDABDD96/1440537067.m_raw_acc.dat')\n",
    "User42_acc2=np.loadtxt('/Users/user/Desktop/raw_acc/A5CDF89D-02A2-4EC1-89F8-F534FDABDD96/1440537129.m_raw_acc.dat')\n",
    "User42_acc3=np.loadtxt('/Users/user/Desktop/raw_acc/A5CDF89D-02A2-4EC1-89F8-F534FDABDD96/1440537189.m_raw_acc.dat')\n",
    "User42_acc4=np.loadtxt('/Users/user/Desktop/raw_acc/A5CDF89D-02A2-4EC1-89F8-F534FDABDD96/1440537249.m_raw_acc.dat')"
   ]
  },
  {
   "cell_type": "code",
   "execution_count": 45,
   "id": "ed2e8622",
   "metadata": {},
   "outputs": [],
   "source": [
    "User43_acc1=np.loadtxt('/Users/user/Desktop/raw_acc/A76A5AF5-5A93-4CF2-A16E-62353BB70E8A/1442952406.m_raw_acc.dat')\n",
    "User43_acc2=np.loadtxt('/Users/user/Desktop/raw_acc/A76A5AF5-5A93-4CF2-A16E-62353BB70E8A/1442952467.m_raw_acc.dat')\n",
    "User43_acc3=np.loadtxt('/Users/user/Desktop/raw_acc/A76A5AF5-5A93-4CF2-A16E-62353BB70E8A/1442952527.m_raw_acc.dat')\n",
    "User43_acc4=np.loadtxt('/Users/user/Desktop/raw_acc/A76A5AF5-5A93-4CF2-A16E-62353BB70E8A/1442952587.m_raw_acc.dat')"
   ]
  },
  {
   "cell_type": "code",
   "execution_count": 46,
   "id": "f5ff5f7c",
   "metadata": {},
   "outputs": [],
   "source": [
    "User44_acc1=np.loadtxt('/Users/user/Desktop/raw_acc/A7599A50-24AE-46A6-8EA6-2576F1011D81/1446762297.m_raw_acc.dat')\n",
    "User44_acc2=np.loadtxt('/Users/user/Desktop/raw_acc/A7599A50-24AE-46A6-8EA6-2576F1011D81/1446762357.m_raw_acc.dat')\n",
    "User44_acc3=np.loadtxt('/Users/user/Desktop/raw_acc/A7599A50-24AE-46A6-8EA6-2576F1011D81/1446762417.m_raw_acc.dat')\n",
    "User44_acc4=np.loadtxt('/Users/user/Desktop/raw_acc/A7599A50-24AE-46A6-8EA6-2576F1011D81/1446762487.m_raw_acc.dat')"
   ]
  },
  {
   "cell_type": "code",
   "execution_count": 47,
   "id": "970b3c67",
   "metadata": {},
   "outputs": [],
   "source": [
    "User45_acc1=np.loadtxt('/Users/user/Desktop/raw_acc/B7F9D634-263E-4A97-87F9-6FFB4DDCB36C/1440623645.m_raw_acc.dat')\n",
    "User45_acc2=np.loadtxt('/Users/user/Desktop/raw_acc/B7F9D634-263E-4A97-87F9-6FFB4DDCB36C/1440623716.m_raw_acc.dat')\n",
    "User45_acc3=np.loadtxt('/Users/user/Desktop/raw_acc/B7F9D634-263E-4A97-87F9-6FFB4DDCB36C/1440623753.m_raw_acc.dat')\n",
    "User45_acc4=np.loadtxt('/Users/user/Desktop/raw_acc/B7F9D634-263E-4A97-87F9-6FFB4DDCB36C/1440623836.m_raw_acc.dat')"
   ]
  },
  {
   "cell_type": "code",
   "execution_count": 48,
   "id": "a6c49cd5",
   "metadata": {},
   "outputs": [],
   "source": [
    "User46_acc1=np.loadtxt('/Users/user/Desktop/raw_acc/B09E373F-8A54-44C8-895B-0039390B859F/1446766993.m_raw_acc.dat')\n",
    "User46_acc2=np.loadtxt('/Users/user/Desktop/raw_acc/B09E373F-8A54-44C8-895B-0039390B859F/1446767191.m_raw_acc.dat')\n",
    "User46_acc3=np.loadtxt('/Users/user/Desktop/raw_acc/B09E373F-8A54-44C8-895B-0039390B859F/1446767252.m_raw_acc.dat')\n",
    "User46_acc4=np.loadtxt('/Users/user/Desktop/raw_acc/B09E373F-8A54-44C8-895B-0039390B859F/1446767312.m_raw_acc.dat')"
   ]
  },
  {
   "cell_type": "code",
   "execution_count": 49,
   "id": "32a77783",
   "metadata": {},
   "outputs": [],
   "source": [
    "User47_acc1=np.loadtxt('/Users/user/Desktop/raw_acc/B9724848-C7E2-45F4-9B3F-A1F38D864495/1447722881.m_raw_acc.dat')\n",
    "User47_acc2=np.loadtxt('/Users/user/Desktop/raw_acc/B9724848-C7E2-45F4-9B3F-A1F38D864495/1447722942.m_raw_acc.dat')\n",
    "User47_acc3=np.loadtxt('/Users/user/Desktop/raw_acc/B9724848-C7E2-45F4-9B3F-A1F38D864495/1447723002.m_raw_acc.dat')\n",
    "User47_acc4=np.loadtxt('/Users/user/Desktop/raw_acc/B9724848-C7E2-45F4-9B3F-A1F38D864495/1447723062.m_raw_acc.dat')"
   ]
  },
  {
   "cell_type": "code",
   "execution_count": 50,
   "id": "58e02a08",
   "metadata": {},
   "outputs": [],
   "source": [
    "User48_acc1=np.loadtxt('/Users/user/Desktop/raw_acc/BE3CA5A6-A561-4BBD-B7C9-5DF6805400FC/1444756357.m_raw_acc.dat')\n",
    "User48_acc2=np.loadtxt('/Users/user/Desktop/raw_acc/BE3CA5A6-A561-4BBD-B7C9-5DF6805400FC/1444756418.m_raw_acc.dat')\n",
    "User48_acc3=np.loadtxt('/Users/user/Desktop/raw_acc/BE3CA5A6-A561-4BBD-B7C9-5DF6805400FC/1444756478.m_raw_acc.dat')\n",
    "User48_acc4=np.loadtxt('/Users/user/Desktop/raw_acc/BE3CA5A6-A561-4BBD-B7C9-5DF6805400FC/1444756538.m_raw_acc.dat')"
   ]
  },
  {
   "cell_type": "code",
   "execution_count": 51,
   "id": "1f2b2c9d",
   "metadata": {},
   "outputs": [],
   "source": [
    "User49_acc1=np.loadtxt('/Users/user/Desktop/raw_acc/BEF6C611-50DA-4971-A040-87FB979F3FC1/1438378685.m_raw_acc.dat')\n",
    "User49_acc2=np.loadtxt('/Users/user/Desktop/raw_acc/BEF6C611-50DA-4971-A040-87FB979F3FC1/1438378740.m_raw_acc.dat')\n",
    "User49_acc3=np.loadtxt('/Users/user/Desktop/raw_acc/BEF6C611-50DA-4971-A040-87FB979F3FC1/1438378818.m_raw_acc.dat')\n",
    "User49_acc4=np.loadtxt('/Users/user/Desktop/raw_acc/BEF6C611-50DA-4971-A040-87FB979F3FC1/1438378849.m_raw_acc.dat')"
   ]
  },
  {
   "cell_type": "code",
   "execution_count": 52,
   "id": "0e7fc63a",
   "metadata": {},
   "outputs": [],
   "source": [
    "User50_acc1=np.loadtxt('/Users/user/Desktop/raw_acc/C48CE857-A0DD-4DDB-BEA5-3A25449B2153/1443643417.m_raw_acc.dat')\n",
    "User50_acc2=np.loadtxt('/Users/user/Desktop/raw_acc/C48CE857-A0DD-4DDB-BEA5-3A25449B2153/1443643478.m_raw_acc.dat')\n",
    "User50_acc3=np.loadtxt('/Users/user/Desktop/raw_acc/C48CE857-A0DD-4DDB-BEA5-3A25449B2153/1443643538.m_raw_acc.dat')\n",
    "User50_acc4=np.loadtxt('/Users/user/Desktop/raw_acc/C48CE857-A0DD-4DDB-BEA5-3A25449B2153/1443643591.m_raw_acc.dat')"
   ]
  },
  {
   "cell_type": "code",
   "execution_count": 53,
   "id": "90d23a2d",
   "metadata": {},
   "outputs": [],
   "source": [
    "User51_acc1=np.loadtxt('/Users/user/Desktop/raw_acc/CA820D43-E5E2-42EF-9798-BE56F776370B/1440522618.m_raw_acc.dat')\n",
    "User51_acc2=np.loadtxt('/Users/user/Desktop/raw_acc/CA820D43-E5E2-42EF-9798-BE56F776370B/1440522679.m_raw_acc.dat')\n",
    "User51_acc3=np.loadtxt('/Users/user/Desktop/raw_acc/CA820D43-E5E2-42EF-9798-BE56F776370B/1440522739.m_raw_acc.dat')\n",
    "User51_acc4=np.loadtxt('/Users/user/Desktop/raw_acc/CA820D43-E5E2-42EF-9798-BE56F776370B/1440522799.m_raw_acc.dat')"
   ]
  },
  {
   "cell_type": "code",
   "execution_count": 54,
   "id": "844233ea",
   "metadata": {},
   "outputs": [],
   "source": [
    "User52_acc1=np.loadtxt('/Users/user/Desktop/raw_acc/CCAF77F0-FABB-4F2F-9E24-D56AD0C5A82F/1444763122.m_raw_acc.dat')\n",
    "User52_acc2=np.loadtxt('/Users/user/Desktop/raw_acc/CCAF77F0-FABB-4F2F-9E24-D56AD0C5A82F/1444763195.m_raw_acc.dat')\n",
    "User52_acc3=np.loadtxt('/Users/user/Desktop/raw_acc/CCAF77F0-FABB-4F2F-9E24-D56AD0C5A82F/1444763239.m_raw_acc.dat')\n",
    "User52_acc4=np.loadtxt('/Users/user/Desktop/raw_acc/CCAF77F0-FABB-4F2F-9E24-D56AD0C5A82F/1444763292.m_raw_acc.dat')"
   ]
  },
  {
   "cell_type": "code",
   "execution_count": 55,
   "id": "388d4454",
   "metadata": {},
   "outputs": [],
   "source": [
    "User53_acc1=np.loadtxt('/Users/user/Desktop/raw_acc/CDA3BBF7-6631-45E8-85BA-EEB416B32A3C/1441818360.m_raw_acc.dat')\n",
    "User53_acc2=np.loadtxt('/Users/user/Desktop/raw_acc/CDA3BBF7-6631-45E8-85BA-EEB416B32A3C/1441818421.m_raw_acc.dat')\n",
    "User53_acc3=np.loadtxt('/Users/user/Desktop/raw_acc/CDA3BBF7-6631-45E8-85BA-EEB416B32A3C/1441818481.m_raw_acc.dat')\n",
    "User53_acc4=np.loadtxt('/Users/user/Desktop/raw_acc/CDA3BBF7-6631-45E8-85BA-EEB416B32A3C/1441818541.m_raw_acc.dat')"
   ]
  },
  {
   "cell_type": "code",
   "execution_count": 56,
   "id": "6e8e74bc",
   "metadata": {},
   "outputs": [],
   "source": [
    "User54_acc1=np.loadtxt('/Users/user/Desktop/raw_acc/CF722AA9-2533-4E51-9FEB-9EAC84EE9AAC/1447711745.m_raw_acc.dat')\n",
    "User54_acc2=np.loadtxt('/Users/user/Desktop/raw_acc/CF722AA9-2533-4E51-9FEB-9EAC84EE9AAC/1447711806.m_raw_acc.dat')\n",
    "User54_acc3=np.loadtxt('/Users/user/Desktop/raw_acc/CF722AA9-2533-4E51-9FEB-9EAC84EE9AAC/1447711866.m_raw_acc.dat')\n",
    "User54_acc4=np.loadtxt('/Users/user/Desktop/raw_acc/CF722AA9-2533-4E51-9FEB-9EAC84EE9AAC/1447711932.m_raw_acc.dat')"
   ]
  },
  {
   "cell_type": "code",
   "execution_count": 57,
   "id": "e05363f0",
   "metadata": {},
   "outputs": [],
   "source": [
    "User55_acc1=np.loadtxt('/Users/user/Desktop/raw_acc/D7D20E2E-FC78-405D-B346-DBD3FD8FC92B/1439323637.m_raw_acc.dat')\n",
    "User55_acc2=np.loadtxt('/Users/user/Desktop/raw_acc/D7D20E2E-FC78-405D-B346-DBD3FD8FC92B/1439323697.m_raw_acc.dat')\n",
    "User55_acc3=np.loadtxt('/Users/user/Desktop/raw_acc/D7D20E2E-FC78-405D-B346-DBD3FD8FC92B/1439323757.m_raw_acc.dat')\n",
    "User55_acc4=np.loadtxt('/Users/user/Desktop/raw_acc/D7D20E2E-FC78-405D-B346-DBD3FD8FC92B/1439323817.m_raw_acc.dat')"
   ]
  },
  {
   "cell_type": "code",
   "execution_count": 58,
   "id": "7011f0a3",
   "metadata": {},
   "outputs": [],
   "source": [
    "User56_acc1=np.loadtxt('/Users/user/Desktop/raw_acc/E65577C1-8D5D-4F70-AF23-B3ADB9D3DBA3/1442358663.m_raw_acc.dat')\n",
    "User56_acc2=np.loadtxt('/Users/user/Desktop/raw_acc/E65577C1-8D5D-4F70-AF23-B3ADB9D3DBA3/1442358724.m_raw_acc.dat')\n",
    "User56_acc3=np.loadtxt('/Users/user/Desktop/raw_acc/E65577C1-8D5D-4F70-AF23-B3ADB9D3DBA3/1442358784.m_raw_acc.dat')\n",
    "User56_acc4=np.loadtxt('/Users/user/Desktop/raw_acc/E65577C1-8D5D-4F70-AF23-B3ADB9D3DBA3/1442358844.m_raw_acc.dat')"
   ]
  },
  {
   "cell_type": "code",
   "execution_count": 59,
   "id": "850ecec3",
   "metadata": {},
   "outputs": [],
   "source": [
    "User57_acc1=np.loadtxt('/Users/user/Desktop/raw_acc/ECECC2AB-D32F-4F90-B74C-E12A1C69BBE2/1447357577.m_raw_acc.dat')\n",
    "User57_acc2=np.loadtxt('/Users/user/Desktop/raw_acc/ECECC2AB-D32F-4F90-B74C-E12A1C69BBE2/1447357945.m_raw_acc.dat')\n",
    "User57_acc3=np.loadtxt('/Users/user/Desktop/raw_acc/ECECC2AB-D32F-4F90-B74C-E12A1C69BBE2/1447358005.m_raw_acc.dat')\n",
    "User57_acc4=np.loadtxt('/Users/user/Desktop/raw_acc/ECECC2AB-D32F-4F90-B74C-E12A1C69BBE2/1447358065.m_raw_acc.dat')"
   ]
  },
  {
   "cell_type": "code",
   "execution_count": 60,
   "id": "31480a06",
   "metadata": {},
   "outputs": [],
   "source": [
    "User58_acc1=np.loadtxt('/Users/user/Desktop/raw_acc/F50235E0-DD67-4F2A-B00B-1F31ADA998B9/1441900642.m_raw_acc.dat')\n",
    "User58_acc2=np.loadtxt('/Users/user/Desktop/raw_acc/F50235E0-DD67-4F2A-B00B-1F31ADA998B9/1441900950.m_raw_acc.dat')\n",
    "User58_acc3=np.loadtxt('/Users/user/Desktop/raw_acc/F50235E0-DD67-4F2A-B00B-1F31ADA998B9/1441901019.m_raw_acc.dat')\n",
    "User58_acc4=np.loadtxt('/Users/user/Desktop/raw_acc/F50235E0-DD67-4F2A-B00B-1F31ADA998B9/1441901075.m_raw_acc.dat')"
   ]
  },
  {
   "cell_type": "code",
   "execution_count": 61,
   "id": "694ab95a",
   "metadata": {},
   "outputs": [],
   "source": [
    "User59_acc1=np.loadtxt('/Users/user/Desktop/raw_acc/FDAA70A1-42A3-4E3F-9AE3-3FDA412E03BF/1443629160.m_raw_acc.dat')\n",
    "User59_acc2=np.loadtxt('/Users/user/Desktop/raw_acc/FDAA70A1-42A3-4E3F-9AE3-3FDA412E03BF/1443629221.m_raw_acc.dat')\n",
    "User59_acc3=np.loadtxt('/Users/user/Desktop/raw_acc/FDAA70A1-42A3-4E3F-9AE3-3FDA412E03BF/1443629281.m_raw_acc.dat')\n",
    "User59_acc4=np.loadtxt('/Users/user/Desktop/raw_acc/FDAA70A1-42A3-4E3F-9AE3-3FDA412E03BF/1443629325.m_raw_acc.dat')"
   ]
  },
  {
   "cell_type": "markdown",
   "id": "3fc3b8f2",
   "metadata": {},
   "source": [
    "# Step 2: Filtering Noisy Data"
   ]
  },
  {
   "cell_type": "code",
   "execution_count": 62,
   "id": "9b5dfdff",
   "metadata": {},
   "outputs": [],
   "source": [
    "import numpy as np\n",
    "from scipy.signal import butter,filtfilt\n",
    "# Filter requirements.\n",
    "T = 5.0         # Sample Period\n",
    "fs = 30.0       # sample rate, Hz\n",
    "cutoff = 2      # desired cutoff frequency of the filter, Hz ,      slightly higher than actual 1.2 Hz\n",
    "nyq = 0.5 * fs  # Nyquist Frequency\n",
    "order = 2       # sin wave can be approx represented as quadratic\n",
    "n = int(T * fs) # total number of samples"
   ]
  },
  {
   "cell_type": "code",
   "execution_count": 63,
   "id": "1c76290b",
   "metadata": {},
   "outputs": [],
   "source": [
    "def butter_lowpass_filter(User0_acc1):\n",
    "    normal_cutoff = cutoff / nyq\n",
    "    # Get the filter coefficients \n",
    "    b, a = butter(2, normal_cutoff, btype='low', analog=False)\n",
    "    y = filtfilt(b, a, User0_acc1[:,1])\n",
    "    return y"
   ]
  },
  {
   "cell_type": "code",
   "execution_count": 64,
   "id": "50524e36",
   "metadata": {},
   "outputs": [],
   "source": [
    "User0_acc1_filt=butter_lowpass_filter(User0_acc1)\n",
    "User0_acc2_filt=butter_lowpass_filter(User0_acc2)\n",
    "User0_acc3_filt=butter_lowpass_filter(User0_acc3)\n",
    "User0_acc4_filt=butter_lowpass_filter(User0_acc4)"
   ]
  },
  {
   "cell_type": "code",
   "execution_count": 65,
   "id": "0d9e0b61",
   "metadata": {},
   "outputs": [],
   "source": [
    "User1_acc1_filt=butter_lowpass_filter(User1_acc1)\n",
    "User1_acc2_filt=butter_lowpass_filter(User1_acc2)\n",
    "User1_acc3_filt=butter_lowpass_filter(User1_acc3)\n",
    "User1_acc4_filt=butter_lowpass_filter(User1_acc4)"
   ]
  },
  {
   "cell_type": "code",
   "execution_count": 66,
   "id": "3292f098",
   "metadata": {},
   "outputs": [],
   "source": [
    "User2_acc1_filt=butter_lowpass_filter(User2_acc1)\n",
    "User2_acc2_filt=butter_lowpass_filter(User2_acc2)\n",
    "User2_acc3_filt=butter_lowpass_filter(User2_acc3)\n",
    "User2_acc4_filt=butter_lowpass_filter(User2_acc4)"
   ]
  },
  {
   "cell_type": "code",
   "execution_count": 67,
   "id": "cb42b116",
   "metadata": {},
   "outputs": [],
   "source": [
    "User3_acc1_filt=butter_lowpass_filter(User3_acc1)\n",
    "User3_acc2_filt=butter_lowpass_filter(User3_acc2)\n",
    "User3_acc3_filt=butter_lowpass_filter(User3_acc3)\n",
    "User3_acc4_filt=butter_lowpass_filter(User3_acc4)"
   ]
  },
  {
   "cell_type": "code",
   "execution_count": 68,
   "id": "064bf47a",
   "metadata": {},
   "outputs": [],
   "source": [
    "User4_acc1_filt=butter_lowpass_filter(User4_acc1)\n",
    "User4_acc2_filt=butter_lowpass_filter(User4_acc2)\n",
    "User4_acc3_filt=butter_lowpass_filter(User4_acc3)\n",
    "User4_acc4_filt=butter_lowpass_filter(User4_acc4)"
   ]
  },
  {
   "cell_type": "code",
   "execution_count": 69,
   "id": "29112bbd",
   "metadata": {},
   "outputs": [],
   "source": [
    "User5_acc1_filt=butter_lowpass_filter(User5_acc1)\n",
    "User5_acc2_filt=butter_lowpass_filter(User5_acc2)\n",
    "User5_acc3_filt=butter_lowpass_filter(User5_acc3)\n",
    "User5_acc4_filt=butter_lowpass_filter(User5_acc4)"
   ]
  },
  {
   "cell_type": "code",
   "execution_count": 70,
   "id": "7e2d7441",
   "metadata": {},
   "outputs": [],
   "source": [
    "User6_acc1_filt=butter_lowpass_filter(User6_acc1)\n",
    "User6_acc2_filt=butter_lowpass_filter(User6_acc2)\n",
    "User6_acc3_filt=butter_lowpass_filter(User6_acc3)\n",
    "User6_acc4_filt=butter_lowpass_filter(User6_acc4)"
   ]
  },
  {
   "cell_type": "code",
   "execution_count": 71,
   "id": "fc425cd9",
   "metadata": {},
   "outputs": [],
   "source": [
    "User7_acc1_filt=butter_lowpass_filter(User7_acc1)\n",
    "User7_acc2_filt=butter_lowpass_filter(User7_acc2)\n",
    "User7_acc3_filt=butter_lowpass_filter(User7_acc3)\n",
    "User7_acc4_filt=butter_lowpass_filter(User7_acc4)"
   ]
  },
  {
   "cell_type": "code",
   "execution_count": 72,
   "id": "2b295e52",
   "metadata": {},
   "outputs": [],
   "source": [
    "User8_acc1_filt=butter_lowpass_filter(User8_acc1)\n",
    "User8_acc2_filt=butter_lowpass_filter(User8_acc2)\n",
    "User8_acc3_filt=butter_lowpass_filter(User8_acc3)\n",
    "User8_acc4_filt=butter_lowpass_filter(User8_acc4)"
   ]
  },
  {
   "cell_type": "code",
   "execution_count": 73,
   "id": "3bd3593f",
   "metadata": {},
   "outputs": [],
   "source": [
    "User9_acc1_filt=butter_lowpass_filter(User9_acc1)\n",
    "User9_acc2_filt=butter_lowpass_filter(User9_acc2)\n",
    "User9_acc3_filt=butter_lowpass_filter(User9_acc3)\n",
    "User9_acc4_filt=butter_lowpass_filter(User9_acc4)"
   ]
  },
  {
   "cell_type": "code",
   "execution_count": 74,
   "id": "dadbd45e",
   "metadata": {},
   "outputs": [],
   "source": [
    "User10_acc1_filt=butter_lowpass_filter(User10_acc1)\n",
    "User10_acc2_filt=butter_lowpass_filter(User10_acc2)\n",
    "User10_acc3_filt=butter_lowpass_filter(User10_acc3)\n",
    "User10_acc4_filt=butter_lowpass_filter(User10_acc4)"
   ]
  },
  {
   "cell_type": "markdown",
   "id": "5b1e19d2",
   "metadata": {},
   "source": [
    "# Windwoing and statistical features "
   ]
  },
  {
   "cell_type": "code",
   "execution_count": 75,
   "id": "01bc7d75",
   "metadata": {},
   "outputs": [],
   "source": [
    "x_list = []\n",
    "y_list = []\n",
    "z_list = []\n",
    "window_size = 100\n",
    "\n",
    "step_size = 50\n",
    "xs1= User0_acc1[:,1]\n",
    "ys1= User0_acc1 [:,2]\n",
    "zs1= User0_acc1 [:,3]\n",
    "\n",
    "\n",
    "\n",
    "# creating overlaping windows of size window-size 100\n",
    "for i in range(0, User0_acc1.shape[0] - window_size, step_size):\n",
    "    xs = User0_acc1[:,1][i: i + 100]\n",
    "    ys = User0_acc1 [:,2][i: i + 100]\n",
    "    zs = User0_acc1[:,3][i: i + 100]\n",
    "    \n",
    "    \n",
    "    x_list.append(xs)\n",
    "    y_list.append(ys)\n",
    "    z_list.append(zs)\n",
    "\n",
    "    \n",
    "       \n",
    "    # Statistical Features on raw x, y and z in time domain\n",
    "u0_acc_mean  = pd.DataFrame()\n",
    "\n"
   ]
  },
  {
   "cell_type": "code",
   "execution_count": 76,
   "id": "6f853b51",
   "metadata": {},
   "outputs": [],
   "source": [
    "u0_acc_mean['x_mean_fft'] = pd.Series(x_list[0:20]).apply(lambda x: x.mean())\n",
    "u0_acc_mean['y_mean_fft'] = pd.Series(y_list[0:20]).apply(lambda x: x.mean())\n",
    "u0_acc_mean['z_mean_fft'] = pd.Series(z_list[0:20]).apply(lambda x: x.mean())"
   ]
  },
  {
   "cell_type": "code",
   "execution_count": 77,
   "id": "443b3edc",
   "metadata": {},
   "outputs": [],
   "source": [
    "x_list = []\n",
    "y_list = []\n",
    "z_list = []\n",
    "\n",
    "window_size = 100\n",
    "\n",
    "step_size = 50\n",
    "xs1= User1_acc1[:,1]\n",
    "ys1= User1_acc1[:,2]\n",
    "zs1= User1_acc1[:,3]\n",
    "\n",
    "\n",
    "\n",
    "\n",
    "# creating overlaping windows of size window-size 100\n",
    "for i in range(0, User1_acc1.shape[0] - window_size, step_size):\n",
    "    xs = User1_acc1[:,1][i: i + 100]\n",
    "    ys = User1_acc1[:,2][i: i + 100]\n",
    "    zs = User1_acc1[:,3][i: i + 100]\n",
    "    \n",
    "    \n",
    "    \n",
    "    x_list.append(xs)\n",
    "    y_list.append(ys)\n",
    "    z_list.append(zs)\n",
    "   \n",
    "\n",
    "    \n",
    "       \n",
    "    # Statistical Features on raw x, y and z in time domain\n",
    "u1_acc_mean  = pd.DataFrame()"
   ]
  },
  {
   "cell_type": "code",
   "execution_count": 78,
   "id": "54a4e0a6",
   "metadata": {},
   "outputs": [],
   "source": [
    "u1_acc_mean['x_mean_fft'] = pd.Series(x_list[0:20]).apply(lambda x: x.mean())\n",
    "u1_acc_mean['y_mean_fft'] = pd.Series(y_list[0:20]).apply(lambda x: x.mean())\n",
    "u1_acc_mean['z_mean_fft'] = pd.Series(z_list[0:20]).apply(lambda x: x.mean())"
   ]
  },
  {
   "cell_type": "code",
   "execution_count": 79,
   "id": "8eaf9e26",
   "metadata": {},
   "outputs": [],
   "source": [
    "x_list = []\n",
    "y_list = []\n",
    "z_list = []\n",
    "\n",
    "window_size = 100\n",
    "\n",
    "step_size = 50\n",
    "xs1= User2_acc1[:,1]\n",
    "ys1= User2_acc1[:,2]\n",
    "zs1= User2_acc1[:,3]\n",
    "\n",
    "\n",
    "\n",
    "\n",
    "# creating overlaping windows of size window-size 100\n",
    "for i in range(0, User2_acc1.shape[0] - window_size, step_size):\n",
    "    xs = User2_acc1[:,1][i: i + 100]\n",
    "    ys = User2_acc1[:,2][i: i + 100]\n",
    "    zs = User2_acc1[:,3][i: i + 100]\n",
    "    \n",
    "    \n",
    "    \n",
    "    x_list.append(xs)\n",
    "    y_list.append(ys)\n",
    "    z_list.append(zs)\n",
    "   \n",
    "\n",
    "    \n",
    "       \n",
    "    # Statistical Features on raw x, y and z in time domain\n",
    "u2_acc_mean  = pd.DataFrame()"
   ]
  },
  {
   "cell_type": "code",
   "execution_count": 80,
   "id": "221b3722",
   "metadata": {},
   "outputs": [],
   "source": [
    "u2_acc_mean['x_mean_fft'] = pd.Series(x_list[0:20]).apply(lambda x: x.mean())\n",
    "u2_acc_mean['y_mean_fft'] = pd.Series(y_list[0:20]).apply(lambda x: x.mean())\n",
    "u2_acc_mean['z_mean_fft'] = pd.Series(z_list[0:20]).apply(lambda x: x.mean())\n"
   ]
  },
  {
   "cell_type": "code",
   "execution_count": 81,
   "id": "1cd245eb",
   "metadata": {},
   "outputs": [],
   "source": [
    "x_list = []\n",
    "y_list = []\n",
    "z_list = []\n",
    "\n",
    "window_size = 100\n",
    "\n",
    "step_size = 50\n",
    "xs1= User3_acc1[:,1]\n",
    "ys1= User3_acc1[:,2]\n",
    "zs1= User3_acc1[:,3]\n",
    "\n",
    "\n",
    "\n",
    "\n",
    "# creating overlaping windows of size window-size 100\n",
    "for i in range(0, User3_acc1.shape[0] - window_size, step_size):\n",
    "    xs = User3_acc1[:,1][i: i + 100]\n",
    "    ys = User3_acc1[:,2][i: i + 100]\n",
    "    zs = User3_acc1[:,3][i: i + 100]\n",
    "    \n",
    "    \n",
    "    \n",
    "    x_list.append(xs)\n",
    "    y_list.append(ys)\n",
    "    z_list.append(zs)\n",
    "   \n",
    "\n",
    "    \n",
    "       \n",
    "    # Statistical Features on raw x, y and z in time domain\n",
    "u3_acc_mean  = pd.DataFrame()"
   ]
  },
  {
   "cell_type": "code",
   "execution_count": 82,
   "id": "db62a402",
   "metadata": {},
   "outputs": [],
   "source": [
    "u3_acc_mean['x_mean_fft'] = pd.Series(x_list[0:20]).apply(lambda x: x.mean())\n",
    "u3_acc_mean['y_mean_fft'] = pd.Series(y_list[0:20]).apply(lambda x: x.mean())\n",
    "u3_acc_mean['z_mean_fft'] = pd.Series(z_list[0:20]).apply(lambda x: x.mean())\n"
   ]
  },
  {
   "cell_type": "code",
   "execution_count": 83,
   "id": "632bdd7d",
   "metadata": {},
   "outputs": [],
   "source": [
    "x_list = []\n",
    "y_list = []\n",
    "z_list = []\n",
    "\n",
    "window_size = 100\n",
    "\n",
    "step_size = 50\n",
    "xs1= User4_acc1[:,1]\n",
    "ys1= User4_acc1[:,2]\n",
    "zs1= User4_acc1[:,3]\n",
    "\n",
    "\n",
    "\n",
    "\n",
    "# creating overlaping windows of size window-size 100\n",
    "for i in range(0, User4_acc1.shape[0] - window_size, step_size):\n",
    "    xs = User4_acc1[:,1][i: i + 100]\n",
    "    ys = User4_acc1[:,2][i: i + 100]\n",
    "    zs = User4_acc1[:,3][i: i + 100]\n",
    "    \n",
    "    \n",
    "    \n",
    "    x_list.append(xs)\n",
    "    y_list.append(ys)\n",
    "    z_list.append(zs)\n",
    "   \n",
    "\n",
    "    \n",
    "       \n",
    "    # Statistical Features on raw x, y and z in time domain\n",
    "u4_acc_mean  = pd.DataFrame()"
   ]
  },
  {
   "cell_type": "code",
   "execution_count": 84,
   "id": "802b2675",
   "metadata": {},
   "outputs": [],
   "source": [
    "u4_acc_mean['x_mean_fft'] = pd.Series(x_list[0:20]).apply(lambda x: x.mean())\n",
    "u4_acc_mean['y_mean_fft'] = pd.Series(y_list[0:20]).apply(lambda x: x.mean())\n",
    "u4_acc_mean['z_mean_fft'] = pd.Series(z_list[0:20]).apply(lambda x: x.mean())"
   ]
  },
  {
   "cell_type": "code",
   "execution_count": 85,
   "id": "bf65a574",
   "metadata": {},
   "outputs": [],
   "source": [
    "x_list = []\n",
    "y_list = []\n",
    "z_list = []\n",
    "\n",
    "window_size = 100\n",
    "\n",
    "step_size = 50\n",
    "xs1= User5_acc1[:,1]\n",
    "ys1= User5_acc1[:,2]\n",
    "zs1= User5_acc1[:,3]\n",
    "\n",
    "\n",
    "\n",
    "\n",
    "# creating overlaping windows of size window-size 100\n",
    "for i in range(0, User5_acc1.shape[0] - window_size, step_size):\n",
    "    xs = User5_acc1[:,1][i: i + 100]\n",
    "    ys = User5_acc1[:,2][i: i + 100]\n",
    "    zs = User5_acc1[:,3][i: i + 100]\n",
    "    \n",
    "    \n",
    "    \n",
    "    x_list.append(xs)\n",
    "    y_list.append(ys)\n",
    "    z_list.append(zs)\n",
    "   \n",
    "\n",
    "    \n",
    "       \n",
    "    # Statistical Features on raw x, y and z in time domain\n",
    "u5_acc_mean  = pd.DataFrame()"
   ]
  },
  {
   "cell_type": "code",
   "execution_count": 86,
   "id": "7219d1d0",
   "metadata": {},
   "outputs": [],
   "source": [
    "u5_acc_mean['x_mean_fft'] = pd.Series(x_list[0:20]).apply(lambda x: x.mean())\n",
    "u5_acc_mean['y_mean_fft'] = pd.Series(y_list[0:20]).apply(lambda x: x.mean())\n",
    "u5_acc_mean['z_mean_fft'] = pd.Series(z_list[0:20]).apply(lambda x: x.mean())"
   ]
  },
  {
   "cell_type": "code",
   "execution_count": 87,
   "id": "b1d3e4e6",
   "metadata": {},
   "outputs": [],
   "source": [
    "x_list = []\n",
    "y_list = []\n",
    "z_list = []\n",
    "\n",
    "window_size = 100\n",
    "\n",
    "step_size = 50\n",
    "xs1= User6_acc1[:,1]\n",
    "ys1= User6_acc1[:,2]\n",
    "zs1= User6_acc1[:,3]\n",
    "\n",
    "\n",
    "\n",
    "\n",
    "# creating overlaping windows of size window-size 100\n",
    "for i in range(0, User6_acc1.shape[0] - window_size, step_size):\n",
    "    xs = User6_acc1[:,1][i: i + 100]\n",
    "    ys = User6_acc1[:,2][i: i + 100]\n",
    "    zs = User6_acc1[:,3][i: i + 100]\n",
    "    \n",
    "    \n",
    "    \n",
    "    x_list.append(xs)\n",
    "    y_list.append(ys)\n",
    "    z_list.append(zs)\n",
    "   \n",
    "\n",
    "    \n",
    "       \n",
    "    # Statistical Features on raw x, y and z in time domain\n",
    "u6_acc_mean  = pd.DataFrame()"
   ]
  },
  {
   "cell_type": "code",
   "execution_count": 88,
   "id": "22808398",
   "metadata": {},
   "outputs": [],
   "source": [
    "u6_acc_mean['x_mean_fft'] = pd.Series(x_list[0:20]).apply(lambda x: x.mean())\n",
    "u6_acc_mean['y_mean_fft'] = pd.Series(y_list[0:20]).apply(lambda x: x.mean())\n",
    "u6_acc_mean['z_mean_fft'] = pd.Series(z_list[0:20]).apply(lambda x: x.mean())"
   ]
  },
  {
   "cell_type": "code",
   "execution_count": 89,
   "id": "e238efab",
   "metadata": {},
   "outputs": [],
   "source": [
    "x_list = []\n",
    "y_list = []\n",
    "z_list = []\n",
    "\n",
    "window_size = 100\n",
    "\n",
    "step_size = 50\n",
    "xs1= User7_acc1[:,1]\n",
    "ys1= User7_acc1[:,2]\n",
    "zs1= User7_acc1[:,3]\n",
    "\n",
    "\n",
    "\n",
    "\n",
    "# creating overlaping windows of size window-size 100\n",
    "for i in range(0, User7_acc1.shape[0] - window_size, step_size):\n",
    "    xs = User7_acc1[:,1][i: i + 100]\n",
    "    ys = User7_acc1[:,2][i: i + 100]\n",
    "    zs = User7_acc1[:,3][i: i + 100]\n",
    "    \n",
    "    \n",
    "    \n",
    "    x_list.append(xs)\n",
    "    y_list.append(ys)\n",
    "    z_list.append(zs)\n",
    "   \n",
    "\n",
    "    \n",
    "       \n",
    "    # Statistical Features on raw x, y and z in time domain\n",
    "u7_acc_mean  = pd.DataFrame()"
   ]
  },
  {
   "cell_type": "code",
   "execution_count": 90,
   "id": "2c4bbf92",
   "metadata": {},
   "outputs": [],
   "source": [
    "u7_acc_mean['x_mean_fft'] = pd.Series(x_list[0:20]).apply(lambda x: x.mean())\n",
    "u7_acc_mean['y_mean_fft'] = pd.Series(y_list[0:20]).apply(lambda x: x.mean())\n",
    "u7_acc_mean['z_mean_fft'] = pd.Series(z_list[0:20]).apply(lambda x: x.mean())"
   ]
  },
  {
   "cell_type": "code",
   "execution_count": 91,
   "id": "35bd9201",
   "metadata": {},
   "outputs": [],
   "source": [
    "x_list = []\n",
    "y_list = []\n",
    "z_list = []\n",
    "\n",
    "window_size = 100\n",
    "\n",
    "step_size = 50\n",
    "xs1= User8_acc1[:,1]\n",
    "ys1= User8_acc1[:,2]\n",
    "zs1= User8_acc1[:,3]\n",
    "\n",
    "\n",
    "\n",
    "\n",
    "# creating overlaping windows of size window-size 100\n",
    "for i in range(0, User8_acc1.shape[0] - window_size, step_size):\n",
    "    xs = User8_acc1[:,1][i: i + 100]\n",
    "    ys = User8_acc1[:,2][i: i + 100]\n",
    "    zs = User8_acc1[:,3][i: i + 100]\n",
    "    \n",
    "    \n",
    "    \n",
    "    x_list.append(xs)\n",
    "    y_list.append(ys)\n",
    "    z_list.append(zs)\n",
    "   \n",
    "\n",
    "    \n",
    "       \n",
    "    # Statistical Features on raw x, y and z in time domain\n",
    "u8_acc_mean  = pd.DataFrame()"
   ]
  },
  {
   "cell_type": "code",
   "execution_count": 92,
   "id": "7437a74b",
   "metadata": {},
   "outputs": [],
   "source": [
    "u8_acc_mean['x_mean_fft'] = pd.Series(x_list[0:20]).apply(lambda x: x.mean())\n",
    "u8_acc_mean['y_mean_fft'] = pd.Series(y_list[0:20]).apply(lambda x: x.mean())\n",
    "u8_acc_mean['z_mean_fft'] = pd.Series(z_list[0:20]).apply(lambda x: x.mean())"
   ]
  },
  {
   "cell_type": "code",
   "execution_count": 93,
   "id": "cfaa3e0d",
   "metadata": {},
   "outputs": [],
   "source": [
    "x_list = []\n",
    "y_list = []\n",
    "z_list = []\n",
    "\n",
    "window_size = 100\n",
    "\n",
    "step_size = 50\n",
    "xs1= User9_acc1[:,1]\n",
    "ys1= User9_acc1[:,2]\n",
    "zs1= User9_acc1[:,3]\n",
    "\n",
    "\n",
    "\n",
    "\n",
    "# creating overlaping windows of size window-size 100\n",
    "for i in range(0, User9_acc1.shape[0] - window_size, step_size):\n",
    "    xs = User9_acc1[:,1][i: i + 100]\n",
    "    ys = User9_acc1[:,2][i: i + 100]\n",
    "    zs = User9_acc1[:,3][i: i + 100]\n",
    "    \n",
    "    \n",
    "    \n",
    "    x_list.append(xs)\n",
    "    y_list.append(ys)\n",
    "    z_list.append(zs)\n",
    "   \n",
    "\n",
    "    \n",
    "       \n",
    "    # Statistical Features on raw x, y and z in time domain\n",
    "u9_acc_mean  = pd.DataFrame()"
   ]
  },
  {
   "cell_type": "code",
   "execution_count": 94,
   "id": "42e457b5",
   "metadata": {},
   "outputs": [],
   "source": [
    "u9_acc_mean['x_mean_fft'] = pd.Series(x_list[0:20]).apply(lambda x: x.mean())\n",
    "u9_acc_mean['y_mean_fft'] = pd.Series(y_list[0:20]).apply(lambda x: x.mean())\n",
    "u9_acc_mean['z_mean_fft'] = pd.Series(z_list[0:20]).apply(lambda x: x.mean())"
   ]
  },
  {
   "cell_type": "code",
   "execution_count": 95,
   "id": "c19a4490",
   "metadata": {},
   "outputs": [],
   "source": [
    "x_list = []\n",
    "y_list = []\n",
    "z_list = []\n",
    "\n",
    "window_size = 100\n",
    "\n",
    "step_size = 50\n",
    "xs1= User10_acc1[:,1]\n",
    "ys1= User10_acc1[:,2]\n",
    "zs1= User10_acc1[:,3]\n",
    "\n",
    "\n",
    "\n",
    "\n",
    "# creating overlaping windows of size window-size 100\n",
    "for i in range(0, User10_acc1.shape[0] - window_size, step_size):\n",
    "    xs = User10_acc1[:,1][i: i + 100]\n",
    "    ys = User10_acc1[:,2][i: i + 100]\n",
    "    zs = User10_acc1[:,3][i: i + 100]\n",
    "    \n",
    "    \n",
    "    \n",
    "    x_list.append(xs)\n",
    "    y_list.append(ys)\n",
    "    z_list.append(zs)\n",
    "   \n",
    "\n",
    "    \n",
    "       \n",
    "    # Statistical Features on raw x, y and z in time domain\n",
    "u10_acc_mean  = pd.DataFrame()"
   ]
  },
  {
   "cell_type": "code",
   "execution_count": 96,
   "id": "f8b60805",
   "metadata": {},
   "outputs": [],
   "source": [
    "u10_acc_mean['x_mean_fft'] = pd.Series(x_list[0:20]).apply(lambda x: x.mean())\n",
    "u10_acc_mean['y_mean_fft'] = pd.Series(y_list[0:20]).apply(lambda x: x.mean())\n",
    "u10_acc_mean['z_mean_fft'] = pd.Series(z_list[0:20]).apply(lambda x: x.mean())"
   ]
  },
  {
   "cell_type": "code",
   "execution_count": 97,
   "id": "b4d31cb6",
   "metadata": {},
   "outputs": [],
   "source": [
    "x_list = []\n",
    "y_list = []\n",
    "z_list = []\n",
    "\n",
    "window_size = 100\n",
    "\n",
    "step_size = 50\n",
    "xs1= User11_acc1[:,1]\n",
    "ys1= User11_acc1[:,2]\n",
    "zs1= User11_acc1[:,3]\n",
    "\n",
    "\n",
    "\n",
    "\n",
    "# creating overlaping windows of size window-size 100\n",
    "for i in range(0, User11_acc1.shape[0] - window_size, step_size):\n",
    "    xs = User11_acc1[:,1][i: i + 100]\n",
    "    ys = User11_acc1[:,2][i: i + 100]\n",
    "    zs = User11_acc1[:,3][i: i + 100]\n",
    "    \n",
    "    \n",
    "    \n",
    "    x_list.append(xs)\n",
    "    y_list.append(ys)\n",
    "    z_list.append(zs)\n",
    "   \n",
    "\n",
    "    \n",
    "       \n",
    "    # Statistical Features on raw x, y and z in time domain\n",
    "u11_acc_mean  = pd.DataFrame()"
   ]
  },
  {
   "cell_type": "code",
   "execution_count": 98,
   "id": "47518e51",
   "metadata": {},
   "outputs": [],
   "source": [
    "u11_acc_mean['x_mean_fft'] = pd.Series(x_list[0:20]).apply(lambda x: x.mean())\n",
    "u11_acc_mean['y_mean_fft'] = pd.Series(y_list[0:20]).apply(lambda x: x.mean())\n",
    "u11_acc_mean['z_mean_fft'] = pd.Series(z_list[0:20]).apply(lambda x: x.mean())"
   ]
  },
  {
   "cell_type": "code",
   "execution_count": 99,
   "id": "af0cbda1",
   "metadata": {},
   "outputs": [],
   "source": [
    "x_list = []\n",
    "y_list = []\n",
    "z_list = []\n",
    "\n",
    "window_size = 100\n",
    "\n",
    "step_size = 50\n",
    "xs1= User12_acc1[:,1]\n",
    "ys1= User12_acc1[:,2]\n",
    "zs1= User12_acc1[:,3]\n",
    "\n",
    "\n",
    "\n",
    "\n",
    "# creating overlaping windows of size window-size 100\n",
    "for i in range(0, User12_acc1.shape[0] - window_size, step_size):\n",
    "    xs = User12_acc1[:,1][i: i + 100]\n",
    "    ys = User12_acc1[:,2][i: i + 100]\n",
    "    zs = User12_acc1[:,3][i: i + 100]\n",
    "    \n",
    "    \n",
    "    \n",
    "    x_list.append(xs)\n",
    "    y_list.append(ys)\n",
    "    z_list.append(zs)\n",
    "   \n",
    "\n",
    "    \n",
    "       \n",
    "    # Statistical Features on raw x, y and z in time domain\n",
    "u12_acc_mean  = pd.DataFrame()"
   ]
  },
  {
   "cell_type": "code",
   "execution_count": 100,
   "id": "8e89cdda",
   "metadata": {},
   "outputs": [],
   "source": [
    "u12_acc_mean['x_mean_fft'] = pd.Series(x_list[0:20]).apply(lambda x: x.mean())\n",
    "u12_acc_mean['y_mean_fft'] = pd.Series(y_list[0:20]).apply(lambda x: x.mean())\n",
    "u12_acc_mean['z_mean_fft'] = pd.Series(z_list[0:20]).apply(lambda x: x.mean())"
   ]
  },
  {
   "cell_type": "code",
   "execution_count": 101,
   "id": "7451570e",
   "metadata": {},
   "outputs": [],
   "source": [
    "x_list = []\n",
    "y_list = []\n",
    "z_list = []\n",
    "\n",
    "window_size = 100\n",
    "\n",
    "step_size = 50\n",
    "xs1= User13_acc1[:,1]\n",
    "ys1= User13_acc1[:,2]\n",
    "zs1= User13_acc1[:,3]\n",
    "\n",
    "\n",
    "\n",
    "\n",
    "# creating overlaping windows of size window-size 100\n",
    "for i in range(0, User13_acc1.shape[0] - window_size, step_size):\n",
    "    xs = User13_acc1[:,1][i: i + 100]\n",
    "    ys = User13_acc1[:,2][i: i + 100]\n",
    "    zs = User13_acc1[:,3][i: i + 100]\n",
    "    \n",
    "    \n",
    "    \n",
    "    x_list.append(xs)\n",
    "    y_list.append(ys)\n",
    "    z_list.append(zs)\n",
    "   \n",
    "\n",
    "    \n",
    "       \n",
    "    # Statistical Features on raw x, y and z in time domain\n",
    "u13_acc_mean  = pd.DataFrame()"
   ]
  },
  {
   "cell_type": "code",
   "execution_count": 102,
   "id": "3004bea2",
   "metadata": {},
   "outputs": [],
   "source": [
    "u13_acc_mean['x_mean_fft'] = pd.Series(x_list[0:20]).apply(lambda x: x.mean())\n",
    "u13_acc_mean['y_mean_fft'] = pd.Series(y_list[0:20]).apply(lambda x: x.mean())\n",
    "u13_acc_mean['z_mean_fft'] = pd.Series(z_list[0:20]).apply(lambda x: x.mean())"
   ]
  },
  {
   "cell_type": "code",
   "execution_count": 103,
   "id": "12ad8cdc",
   "metadata": {},
   "outputs": [],
   "source": [
    "x_list = []\n",
    "y_list = []\n",
    "z_list = []\n",
    "\n",
    "window_size = 100\n",
    "\n",
    "step_size = 50\n",
    "xs1= User14_acc1[:,1]\n",
    "ys1= User14_acc1[:,2]\n",
    "zs1= User14_acc1[:,3]\n",
    "\n",
    "\n",
    "\n",
    "\n",
    "# creating overlaping windows of size window-size 100\n",
    "for i in range(0, User14_acc1.shape[0] - window_size, step_size):\n",
    "    xs = User14_acc1[:,1][i: i + 100]\n",
    "    ys = User14_acc1[:,2][i: i + 100]\n",
    "    zs = User14_acc1[:,3][i: i + 100]\n",
    "    \n",
    "    \n",
    "    \n",
    "    x_list.append(xs)\n",
    "    y_list.append(ys)\n",
    "    z_list.append(zs)\n",
    "   \n",
    "\n",
    "    \n",
    "       \n",
    "    # Statistical Features on raw x, y and z in time domain\n",
    "u14_acc_mean  = pd.DataFrame()"
   ]
  },
  {
   "cell_type": "code",
   "execution_count": 104,
   "id": "e0178958",
   "metadata": {},
   "outputs": [],
   "source": [
    "u14_acc_mean['x_mean_fft'] = pd.Series(x_list[0:20]).apply(lambda x: x.mean())\n",
    "u14_acc_mean['y_mean_fft'] = pd.Series(y_list[0:20]).apply(lambda x: x.mean())\n",
    "u14_acc_mean['z_mean_fft'] = pd.Series(z_list[0:20]).apply(lambda x: x.mean())"
   ]
  },
  {
   "cell_type": "code",
   "execution_count": 105,
   "id": "526a76da",
   "metadata": {},
   "outputs": [],
   "source": [
    "x_list = []\n",
    "y_list = []\n",
    "z_list = []\n",
    "\n",
    "window_size = 100\n",
    "\n",
    "step_size = 50\n",
    "xs1= User15_acc1[:,1]\n",
    "ys1= User15_acc1[:,2]\n",
    "zs1= User15_acc1[:,3]\n",
    "\n",
    "\n",
    "\n",
    "\n",
    "# creating overlaping windows of size window-size 100\n",
    "for i in range(0, User15_acc1.shape[0] - window_size, step_size):\n",
    "    xs = User15_acc1[:,1][i: i + 100]\n",
    "    ys = User15_acc1[:,2][i: i + 100]\n",
    "    zs = User15_acc1[:,3][i: i + 100]\n",
    "    \n",
    "    \n",
    "    \n",
    "    x_list.append(xs)\n",
    "    y_list.append(ys)\n",
    "    z_list.append(zs)\n",
    "   \n",
    "\n",
    "    \n",
    "       \n",
    "    # Statistical Features on raw x, y and z in time domain\n",
    "u15_acc_mean  = pd.DataFrame()"
   ]
  },
  {
   "cell_type": "code",
   "execution_count": 106,
   "id": "19a65b6c",
   "metadata": {},
   "outputs": [],
   "source": [
    "u15_acc_mean['x_mean_fft'] = pd.Series(x_list[0:20]).apply(lambda x: x.mean())\n",
    "u15_acc_mean['y_mean_fft'] = pd.Series(y_list[0:20]).apply(lambda x: x.mean())\n",
    "u15_acc_mean['z_mean_fft'] = pd.Series(z_list[0:20]).apply(lambda x: x.mean())"
   ]
  },
  {
   "cell_type": "code",
   "execution_count": 107,
   "id": "e34634a4",
   "metadata": {},
   "outputs": [],
   "source": [
    "u0_acc_mean['x_skewness_fft'] = pd.Series(x_list[0:8]).apply(lambda x: stats.skew(x))\n",
    "u0_acc_mean['y_skewness_fft'] = pd.Series(y_list[0:20]).apply(lambda x: stats.skew(x))\n",
    "u0_acc_mean['z_skewness_fft'] = pd.Series(z_list[0:20]).apply(lambda x: stats.skew(x))"
   ]
  },
  {
   "cell_type": "code",
   "execution_count": 108,
   "id": "45178252",
   "metadata": {},
   "outputs": [],
   "source": [
    "u1_acc_mean['x_skewness_fft'] = pd.Series(x_list[0:8]).apply(lambda x: stats.skew(x))\n",
    "u1_acc_mean['y_skewness_fft'] = pd.Series(y_list[0:20]).apply(lambda x: stats.skew(x))\n",
    "u1_acc_mean['z_skewness_fft'] = pd.Series(z_list[0:20]).apply(lambda x: stats.skew(x))\n"
   ]
  },
  {
   "cell_type": "code",
   "execution_count": 109,
   "id": "52ba9b76",
   "metadata": {},
   "outputs": [],
   "source": [
    "u2_acc_mean['x_skewness_fft'] = pd.Series(x_list[0:8]).apply(lambda x: stats.skew(x))\n",
    "u2_acc_mean['y_skewness_fft'] = pd.Series(y_list[0:20]).apply(lambda x: stats.skew(x))\n",
    "u2_acc_mean['z_skewness_fft'] = pd.Series(z_list[0:20]).apply(lambda x: stats.skew(x))"
   ]
  },
  {
   "cell_type": "code",
   "execution_count": 110,
   "id": "f45fd24b",
   "metadata": {},
   "outputs": [],
   "source": [
    "u3_acc_mean['x_skewness_fft'] = pd.Series(x_list[0:8]).apply(lambda x: stats.skew(x))\n",
    "u3_acc_mean['y_skewness_fft'] = pd.Series(y_list[0:20]).apply(lambda x: stats.skew(x))\n",
    "u3_acc_mean['z_skewness_fft'] = pd.Series(z_list[0:20]).apply(lambda x: stats.skew(x))"
   ]
  },
  {
   "cell_type": "code",
   "execution_count": 111,
   "id": "6ad84573",
   "metadata": {},
   "outputs": [],
   "source": [
    "u4_acc_mean['x_skewness_fft'] = pd.Series(x_list[0:8]).apply(lambda x: stats.skew(x))\n",
    "u4_acc_mean['y_skewness_fft'] = pd.Series(y_list[0:20]).apply(lambda x: stats.skew(x))\n",
    "u4_acc_mean['z_skewness_fft'] = pd.Series(z_list[0:20]).apply(lambda x: stats.skew(x))"
   ]
  },
  {
   "cell_type": "code",
   "execution_count": 112,
   "id": "a1cd0091",
   "metadata": {},
   "outputs": [],
   "source": [
    "u5_acc_mean['x_skewness_fft'] = pd.Series(x_list[0:8]).apply(lambda x: stats.skew(x))\n",
    "u5_acc_mean['y_skewness_fft'] = pd.Series(y_list[0:20]).apply(lambda x: stats.skew(x))\n",
    "u5_acc_mean['z_skewness_fft'] = pd.Series(z_list[0:20]).apply(lambda x: stats.skew(x))"
   ]
  },
  {
   "cell_type": "code",
   "execution_count": 113,
   "id": "df1837a8",
   "metadata": {},
   "outputs": [],
   "source": [
    "u6_acc_mean['x_skewness_fft'] = pd.Series(x_list[0:8]).apply(lambda x: stats.skew(x))\n",
    "u6_acc_mean['y_skewness_fft'] = pd.Series(y_list[0:20]).apply(lambda x: stats.skew(x))\n",
    "u6_acc_mean['z_skewness_fft'] = pd.Series(z_list[0:20]).apply(lambda x: stats.skew(x))"
   ]
  },
  {
   "cell_type": "code",
   "execution_count": 114,
   "id": "08cd9577",
   "metadata": {},
   "outputs": [],
   "source": [
    "u7_acc_mean['x_skewness_fft'] = pd.Series(x_list[0:8]).apply(lambda x: stats.skew(x))\n",
    "u7_acc_mean['y_skewness_fft'] = pd.Series(y_list[0:20]).apply(lambda x: stats.skew(x))\n",
    "u7_acc_mean['z_skewness_fft'] = pd.Series(z_list[0:20]).apply(lambda x: stats.skew(x))"
   ]
  },
  {
   "cell_type": "code",
   "execution_count": 115,
   "id": "de8167c8",
   "metadata": {},
   "outputs": [],
   "source": [
    "u8_acc_mean['x_skewness_fft'] = pd.Series(x_list[0:8]).apply(lambda x: stats.skew(x))\n",
    "u8_acc_mean['y_skewness_fft'] = pd.Series(y_list[0:20]).apply(lambda x: stats.skew(x))\n",
    "u8_acc_mean['z_skewness_fft'] = pd.Series(z_list[0:20]).apply(lambda x: stats.skew(x))"
   ]
  },
  {
   "cell_type": "code",
   "execution_count": 116,
   "id": "d846439e",
   "metadata": {},
   "outputs": [],
   "source": [
    "u9_acc_mean['x_skewness_fft'] = pd.Series(x_list[0:8]).apply(lambda x: stats.skew(x))\n",
    "u9_acc_mean['y_skewness_fft'] = pd.Series(y_list[0:20]).apply(lambda x: stats.skew(x))\n",
    "u9_acc_mean['z_skewness_fft'] = pd.Series(z_list[0:20]).apply(lambda x: stats.skew(x))"
   ]
  },
  {
   "cell_type": "code",
   "execution_count": 117,
   "id": "e376bac7",
   "metadata": {},
   "outputs": [],
   "source": [
    "u10_acc_mean['x_skewness_fft'] = pd.Series(x_list[0:8]).apply(lambda x: stats.skew(x))\n",
    "u10_acc_mean['y_skewness_fft'] = pd.Series(y_list[0:20]).apply(lambda x: stats.skew(x))\n",
    "u10_acc_mean['z_skewness_fft'] = pd.Series(z_list[0:20]).apply(lambda x: stats.skew(x))"
   ]
  },
  {
   "cell_type": "code",
   "execution_count": 118,
   "id": "88ffefb1",
   "metadata": {},
   "outputs": [],
   "source": [
    "u11_acc_mean['x_skewness_fft'] = pd.Series(x_list[0:8]).apply(lambda x: stats.skew(x))\n",
    "u11_acc_mean['y_skewness_fft'] = pd.Series(y_list[0:20]).apply(lambda x: stats.skew(x))\n",
    "u11_acc_mean['z_skewness_fft'] = pd.Series(z_list[0:20]).apply(lambda x: stats.skew(x))"
   ]
  },
  {
   "cell_type": "code",
   "execution_count": 119,
   "id": "83e956a6",
   "metadata": {},
   "outputs": [],
   "source": [
    "u12_acc_mean['x_skewness_fft'] = pd.Series(x_list[0:8]).apply(lambda x: stats.skew(x))\n",
    "u12_acc_mean['y_skewness_fft'] = pd.Series(y_list[0:20]).apply(lambda x: stats.skew(x))\n",
    "u12_acc_mean['z_skewness_fft'] = pd.Series(z_list[0:20]).apply(lambda x: stats.skew(x))"
   ]
  },
  {
   "cell_type": "code",
   "execution_count": 120,
   "id": "153217d3",
   "metadata": {},
   "outputs": [],
   "source": [
    "u13_acc_mean['x_skewness_fft'] = pd.Series(x_list[0:8]).apply(lambda x: stats.skew(x))\n",
    "u13_acc_mean['y_skewness_fft'] = pd.Series(y_list[0:20]).apply(lambda x: stats.skew(x))\n",
    "u13_acc_mean['z_skewness_fft'] = pd.Series(z_list[0:20]).apply(lambda x: stats.skew(x))"
   ]
  },
  {
   "cell_type": "code",
   "execution_count": 121,
   "id": "f2830440",
   "metadata": {},
   "outputs": [],
   "source": [
    "u14_acc_mean['x_skewness_fft'] = pd.Series(x_list[0:8]).apply(lambda x: stats.skew(x))\n",
    "u14_acc_mean['y_skewness_fft'] = pd.Series(y_list[0:20]).apply(lambda x: stats.skew(x))\n",
    "u14_acc_mean['z_skewness_fft'] = pd.Series(z_list[0:20]).apply(lambda x: stats.skew(x))"
   ]
  },
  {
   "cell_type": "code",
   "execution_count": 122,
   "id": "15db1c65",
   "metadata": {},
   "outputs": [],
   "source": [
    "u15_acc_mean['x_skewness_fft'] = pd.Series(x_list[0:8]).apply(lambda x: stats.skew(x))\n",
    "u15_acc_mean['y_skewness_fft'] = pd.Series(y_list[0:20]).apply(lambda x: stats.skew(x))\n",
    "u15_acc_mean['z_skewness_fft'] = pd.Series(z_list[0:20]).apply(lambda x: stats.skew(x))"
   ]
  },
  {
   "cell_type": "code",
   "execution_count": 123,
   "id": "2b5be4bd",
   "metadata": {},
   "outputs": [],
   "source": [
    "u0_acc_mean['x_std'] = pd.Series(x_list[0:8]).apply(lambda x: x.std())\n",
    "u0_acc_mean['y_std'] = pd.Series(y_list[0:20]).apply(lambda x: x.std())\n",
    "u0_acc_mean['z_std'] = pd.Series(z_list[0:20]).apply(lambda x: x.std())"
   ]
  },
  {
   "cell_type": "code",
   "execution_count": 124,
   "id": "cf892351",
   "metadata": {},
   "outputs": [],
   "source": [
    "u1_acc_mean['x_std'] = pd.Series(x_list[0:8]).apply(lambda x: x.std())\n",
    "u1_acc_mean['y_std'] = pd.Series(y_list[0:20]).apply(lambda x: x.std())\n",
    "u1_acc_mean['z_std'] = pd.Series(z_list[0:20]).apply(lambda x: x.std())"
   ]
  },
  {
   "cell_type": "code",
   "execution_count": 125,
   "id": "66350de5",
   "metadata": {},
   "outputs": [],
   "source": [
    "u2_acc_mean['x_std'] = pd.Series(x_list[0:8]).apply(lambda x: x.std())\n",
    "u2_acc_mean['y_std'] = pd.Series(y_list[0:20]).apply(lambda x: x.std())\n",
    "u2_acc_mean['z_std'] = pd.Series(z_list[0:20]).apply(lambda x: x.std())"
   ]
  },
  {
   "cell_type": "code",
   "execution_count": 126,
   "id": "ca225ccb",
   "metadata": {},
   "outputs": [],
   "source": [
    "u3_acc_mean['x_std'] = pd.Series(x_list[0:8]).apply(lambda x: x.std())\n",
    "u3_acc_mean['y_std'] = pd.Series(y_list[0:20]).apply(lambda x: x.std())\n",
    "u3_acc_mean['z_std'] = pd.Series(z_list[0:20]).apply(lambda x: x.std())"
   ]
  },
  {
   "cell_type": "code",
   "execution_count": 127,
   "id": "b83c5bd9",
   "metadata": {},
   "outputs": [],
   "source": [
    "u4_acc_mean['x_std'] = pd.Series(x_list[0:8]).apply(lambda x: x.std())\n",
    "u4_acc_mean['y_std'] = pd.Series(y_list[0:20]).apply(lambda x: x.std())\n",
    "u4_acc_mean['z_std'] = pd.Series(z_list[0:20]).apply(lambda x: x.std())"
   ]
  },
  {
   "cell_type": "code",
   "execution_count": 128,
   "id": "9f835b97",
   "metadata": {},
   "outputs": [],
   "source": [
    "u5_acc_mean['x_std'] = pd.Series(x_list[0:8]).apply(lambda x: x.std())\n",
    "u5_acc_mean['y_std'] = pd.Series(y_list[0:20]).apply(lambda x: x.std())\n",
    "u5_acc_mean['z_std'] = pd.Series(z_list[0:20]).apply(lambda x: x.std())"
   ]
  },
  {
   "cell_type": "code",
   "execution_count": 129,
   "id": "42ed05db",
   "metadata": {},
   "outputs": [],
   "source": [
    "u6_acc_mean['x_std'] = pd.Series(x_list[0:8]).apply(lambda x: x.std())\n",
    "u6_acc_mean['y_std'] = pd.Series(y_list[0:20]).apply(lambda x: x.std())\n",
    "u6_acc_mean['z_std'] = pd.Series(z_list[0:20]).apply(lambda x: x.std())"
   ]
  },
  {
   "cell_type": "code",
   "execution_count": 130,
   "id": "ffde6a2e",
   "metadata": {},
   "outputs": [],
   "source": [
    "u7_acc_mean['x_std'] = pd.Series(x_list[0:8]).apply(lambda x: x.std())\n",
    "u7_acc_mean['y_std'] = pd.Series(y_list[0:20]).apply(lambda x: x.std())\n",
    "u7_acc_mean['z_std'] = pd.Series(z_list[0:20]).apply(lambda x: x.std())"
   ]
  },
  {
   "cell_type": "code",
   "execution_count": 131,
   "id": "7e8827b3",
   "metadata": {},
   "outputs": [],
   "source": [
    "u8_acc_mean['x_std'] = pd.Series(x_list[0:8]).apply(lambda x: x.std())\n",
    "u8_acc_mean['y_std'] = pd.Series(y_list[0:20]).apply(lambda x: x.std())\n",
    "u8_acc_mean['z_std'] = pd.Series(z_list[0:20]).apply(lambda x: x.std())"
   ]
  },
  {
   "cell_type": "code",
   "execution_count": 132,
   "id": "d6ebdce5",
   "metadata": {},
   "outputs": [],
   "source": [
    "u9_acc_mean['x_std'] = pd.Series(x_list[0:8]).apply(lambda x: x.std())\n",
    "u9_acc_mean['y_std'] = pd.Series(y_list[0:20]).apply(lambda x: x.std())\n",
    "u9_acc_mean['z_std'] = pd.Series(z_list[0:20]).apply(lambda x: x.std())"
   ]
  },
  {
   "cell_type": "code",
   "execution_count": 133,
   "id": "22eace4c",
   "metadata": {},
   "outputs": [],
   "source": [
    "u10_acc_mean['x_std'] = pd.Series(x_list[0:8]).apply(lambda x: x.std())\n",
    "u10_acc_mean['y_std'] = pd.Series(y_list[0:20]).apply(lambda x: x.std())\n",
    "u10_acc_mean['z_std'] = pd.Series(z_list[0:20]).apply(lambda x: x.std())"
   ]
  },
  {
   "cell_type": "code",
   "execution_count": 134,
   "id": "603956fa",
   "metadata": {},
   "outputs": [],
   "source": [
    "u11_acc_mean['x_std'] = pd.Series(x_list[0:8]).apply(lambda x: x.std())\n",
    "u11_acc_mean['y_std'] = pd.Series(y_list[0:20]).apply(lambda x: x.std())\n",
    "u11_acc_mean['z_std'] = pd.Series(z_list[0:20]).apply(lambda x: x.std())"
   ]
  },
  {
   "cell_type": "code",
   "execution_count": 135,
   "id": "76ba79e0",
   "metadata": {},
   "outputs": [],
   "source": [
    "u12_acc_mean['x_std'] = pd.Series(x_list[0:8]).apply(lambda x: x.std())\n",
    "u12_acc_mean['y_std'] = pd.Series(y_list[0:20]).apply(lambda x: x.std())\n",
    "u12_acc_mean['z_std'] = pd.Series(z_list[0:20]).apply(lambda x: x.std())"
   ]
  },
  {
   "cell_type": "code",
   "execution_count": 136,
   "id": "e6422f28",
   "metadata": {},
   "outputs": [],
   "source": [
    "u13_acc_mean['x_std'] = pd.Series(x_list[0:8]).apply(lambda x: x.std())\n",
    "u13_acc_mean['y_std'] = pd.Series(y_list[0:20]).apply(lambda x: x.std())\n",
    "u13_acc_mean['z_std'] = pd.Series(z_list[0:20]).apply(lambda x: x.std())"
   ]
  },
  {
   "cell_type": "code",
   "execution_count": 137,
   "id": "dad0a337",
   "metadata": {},
   "outputs": [],
   "source": [
    "u14_acc_mean['x_std'] = pd.Series(x_list[0:8]).apply(lambda x: x.std())\n",
    "u14_acc_mean['y_std'] = pd.Series(y_list[0:20]).apply(lambda x: x.std())\n",
    "u14_acc_mean['z_std'] = pd.Series(z_list[0:20]).apply(lambda x: x.std())"
   ]
  },
  {
   "cell_type": "code",
   "execution_count": 138,
   "id": "b2bbe2b0",
   "metadata": {},
   "outputs": [],
   "source": [
    "u15_acc_mean['x_std'] = pd.Series(x_list[0:8]).apply(lambda x: x.std())\n",
    "u15_acc_mean['y_std'] = pd.Series(y_list[0:20]).apply(lambda x: x.std())\n",
    "u15_acc_mean['z_std'] = pd.Series(z_list[0:20]).apply(lambda x: x.std())"
   ]
  },
  {
   "cell_type": "code",
   "execution_count": 139,
   "id": "296191bd",
   "metadata": {},
   "outputs": [],
   "source": [
    "u0_acc_mean['sma_fft_x'] = pd.Series(x_list[0:8]).apply(lambda x: np.sum(abs(x)/100))\n",
    "u0_acc_mean['sma_fft_y'] = pd.Series(y_list[0:20]).apply(lambda x:np.sum(abs(x)/100) )\n",
    "u0_acc_mean['sma_fft_z'] = pd.Series(z_list[0:20]).apply(lambda x: np.sum(abs(x)/100))"
   ]
  },
  {
   "cell_type": "code",
   "execution_count": 140,
   "id": "2995ef13",
   "metadata": {},
   "outputs": [],
   "source": [
    "u1_acc_mean['sma_fft_x'] = pd.Series(x_list[0:8]).apply(lambda x: np.sum(abs(x)/100))\n",
    "u1_acc_mean['sma_fft_y'] = pd.Series(y_list[0:20]).apply(lambda x:np.sum(abs(x)/100) )\n",
    "u1_acc_mean['sma_fft_z'] = pd.Series(z_list[0:20]).apply(lambda x: np.sum(abs(x)/100))"
   ]
  },
  {
   "cell_type": "code",
   "execution_count": 141,
   "id": "620a2f54",
   "metadata": {},
   "outputs": [],
   "source": [
    "u2_acc_mean['sma_fft_x'] = pd.Series(x_list[0:8]).apply(lambda x: np.sum(abs(x)/100))\n",
    "u2_acc_mean['sma_fft_y'] = pd.Series(y_list[0:20]).apply(lambda x:np.sum(abs(x)/100) )\n",
    "u2_acc_mean['sma_fft_z'] = pd.Series(z_list[0:20]).apply(lambda x: np.sum(abs(x)/100))"
   ]
  },
  {
   "cell_type": "code",
   "execution_count": 142,
   "id": "4a3a2ffd",
   "metadata": {},
   "outputs": [],
   "source": [
    "u3_acc_mean['sma_fft_x'] = pd.Series(x_list[0:8]).apply(lambda x: np.sum(abs(x)/100))\n",
    "u3_acc_mean['sma_fft_y'] = pd.Series(y_list[0:20]).apply(lambda x:np.sum(abs(x)/100) )\n",
    "u3_acc_mean['sma_fft_z'] = pd.Series(z_list[0:20]).apply(lambda x: np.sum(abs(x)/100))"
   ]
  },
  {
   "cell_type": "code",
   "execution_count": 143,
   "id": "80571a63",
   "metadata": {},
   "outputs": [],
   "source": [
    "u4_acc_mean['sma_fft_x'] = pd.Series(x_list[0:8]).apply(lambda x: np.sum(abs(x)/100))\n",
    "u4_acc_mean['sma_fft_y'] = pd.Series(y_list[0:20]).apply(lambda x:np.sum(abs(x)/100) )\n",
    "u4_acc_mean['sma_fft_z'] = pd.Series(z_list[0:20]).apply(lambda x: np.sum(abs(x)/100))"
   ]
  },
  {
   "cell_type": "code",
   "execution_count": 144,
   "id": "6f40bec8",
   "metadata": {},
   "outputs": [],
   "source": [
    "u5_acc_mean['sma_fft_x'] = pd.Series(x_list[0:8]).apply(lambda x: np.sum(abs(x)/100))\n",
    "u5_acc_mean['sma_fft_y'] = pd.Series(y_list[0:20]).apply(lambda x:np.sum(abs(x)/100) )\n",
    "u5_acc_mean['sma_fft_z'] = pd.Series(z_list[0:20]).apply(lambda x: np.sum(abs(x)/100))"
   ]
  },
  {
   "cell_type": "code",
   "execution_count": 145,
   "id": "bb57ef0d",
   "metadata": {},
   "outputs": [],
   "source": [
    "u6_acc_mean['sma_fft_x'] = pd.Series(x_list[0:8]).apply(lambda x: np.sum(abs(x)/100))\n",
    "u6_acc_mean['sma_fft_y'] = pd.Series(y_list[0:20]).apply(lambda x:np.sum(abs(x)/100) )\n",
    "u6_acc_mean['sma_fft_z'] = pd.Series(z_list[0:20]).apply(lambda x: np.sum(abs(x)/100))"
   ]
  },
  {
   "cell_type": "code",
   "execution_count": 146,
   "id": "0399ceda",
   "metadata": {},
   "outputs": [],
   "source": [
    "u7_acc_mean['sma_fft_x'] = pd.Series(x_list[0:8]).apply(lambda x: np.sum(abs(x)/100))\n",
    "u7_acc_mean['sma_fft_y'] = pd.Series(y_list[0:20]).apply(lambda x:np.sum(abs(x)/100) )\n",
    "u7_acc_mean['sma_fft_z'] = pd.Series(z_list[0:20]).apply(lambda x: np.sum(abs(x)/100))"
   ]
  },
  {
   "cell_type": "code",
   "execution_count": 147,
   "id": "224ccb37",
   "metadata": {},
   "outputs": [],
   "source": [
    "u8_acc_mean['sma_fft_x'] = pd.Series(x_list[0:8]).apply(lambda x: np.sum(abs(x)/100))\n",
    "u8_acc_mean['sma_fft_y'] = pd.Series(y_list[0:20]).apply(lambda x:np.sum(abs(x)/100) )\n",
    "u8_acc_mean['sma_fft_z'] = pd.Series(z_list[0:20]).apply(lambda x: np.sum(abs(x)/100))"
   ]
  },
  {
   "cell_type": "code",
   "execution_count": 148,
   "id": "e9da16a8",
   "metadata": {},
   "outputs": [],
   "source": [
    "u9_acc_mean['sma_fft_x'] = pd.Series(x_list[0:8]).apply(lambda x: np.sum(abs(x)/100))\n",
    "u9_acc_mean['sma_fft_y'] = pd.Series(y_list[0:20]).apply(lambda x:np.sum(abs(x)/100) )\n",
    "u9_acc_mean['sma_fft_z'] = pd.Series(z_list[0:20]).apply(lambda x: np.sum(abs(x)/100))"
   ]
  },
  {
   "cell_type": "code",
   "execution_count": 149,
   "id": "bc5250a2",
   "metadata": {},
   "outputs": [],
   "source": [
    "u10_acc_mean['sma_fft_x'] = pd.Series(x_list[0:8]).apply(lambda x: np.sum(abs(x)/100))\n",
    "u10_acc_mean['sma_fft_y'] = pd.Series(y_list[0:20]).apply(lambda x:np.sum(abs(x)/100) )\n",
    "u10_acc_mean['sma_fft_z'] = pd.Series(z_list[0:20]).apply(lambda x: np.sum(abs(x)/100))"
   ]
  },
  {
   "cell_type": "code",
   "execution_count": 150,
   "id": "724dfc54",
   "metadata": {},
   "outputs": [],
   "source": [
    "u11_acc_mean['sma_fft_x'] = pd.Series(x_list[0:8]).apply(lambda x: np.sum(abs(x)/100))\n",
    "u11_acc_mean['sma_fft_y'] = pd.Series(y_list[0:20]).apply(lambda x:np.sum(abs(x)/100) )\n",
    "u11_acc_mean['sma_fft_z'] = pd.Series(z_list[0:20]).apply(lambda x: np.sum(abs(x)/100))"
   ]
  },
  {
   "cell_type": "code",
   "execution_count": 151,
   "id": "f18a2b69",
   "metadata": {},
   "outputs": [],
   "source": [
    "u12_acc_mean['sma_fft_x'] = pd.Series(x_list[0:8]).apply(lambda x: np.sum(abs(x)/100))\n",
    "u12_acc_mean['sma_fft_y'] = pd.Series(y_list[0:20]).apply(lambda x:np.sum(abs(x)/100) )\n",
    "u12_acc_mean['sma_fft_z'] = pd.Series(z_list[0:20]).apply(lambda x: np.sum(abs(x)/100))"
   ]
  },
  {
   "cell_type": "code",
   "execution_count": 152,
   "id": "f8bec4f8",
   "metadata": {},
   "outputs": [],
   "source": [
    "u13_acc_mean['sma_fft_x'] = pd.Series(x_list[0:8]).apply(lambda x: np.sum(abs(x)/100))\n",
    "u13_acc_mean['sma_fft_y'] = pd.Series(y_list[0:20]).apply(lambda x:np.sum(abs(x)/100) )\n",
    "u13_acc_mean['sma_fft_z'] = pd.Series(z_list[0:20]).apply(lambda x: np.sum(abs(x)/100))"
   ]
  },
  {
   "cell_type": "code",
   "execution_count": 153,
   "id": "62968833",
   "metadata": {},
   "outputs": [],
   "source": [
    "u14_acc_mean['sma_fft_x'] = pd.Series(x_list[0:8]).apply(lambda x: np.sum(abs(x)/100))\n",
    "u14_acc_mean['sma_fft_y'] = pd.Series(y_list[0:20]).apply(lambda x:np.sum(abs(x)/100) )\n",
    "u14_acc_mean['sma_fft_z'] = pd.Series(z_list[0:20]).apply(lambda x: np.sum(abs(x)/100))"
   ]
  },
  {
   "cell_type": "code",
   "execution_count": 154,
   "id": "57e7bd8d",
   "metadata": {},
   "outputs": [],
   "source": [
    "u15_acc_mean['sma_fft_x'] = pd.Series(x_list[0:8]).apply(lambda x: np.sum(abs(x)/100))\n",
    "u15_acc_mean['sma_fft_y'] = pd.Series(y_list[0:20]).apply(lambda x:np.sum(abs(x)/100) )\n",
    "u15_acc_mean['sma_fft_z'] = pd.Series(z_list[0:20]).apply(lambda x: np.sum(abs(x)/100))"
   ]
  },
  {
   "cell_type": "code",
   "execution_count": 155,
   "id": "3633bc1a",
   "metadata": {},
   "outputs": [],
   "source": [
    "\n",
    "u0_acc_mean['x_Shanon Entropoy'] = pd.Series(x_list[0:8]).apply(lambda x: stats.entropy(x))\n",
    "u0_acc_mean['y_Shanon Entropoy'] = pd.Series(y_list[0:20]).apply(lambda x:stats.entropy(x) )\n",
    "u0_acc_mean['z_Shanon Entropoy'] = pd.Series(z_list[0:20]).apply(lambda x: stats.entropy(x))"
   ]
  },
  {
   "cell_type": "code",
   "execution_count": 156,
   "id": "852fefc6",
   "metadata": {},
   "outputs": [],
   "source": [
    "u1_acc_mean['x_Shanon Entropoy'] = pd.Series(x_list[0:8]).apply(lambda x: stats.entropy(x))\n",
    "u1_acc_mean['y_Shanon Entropoy'] = pd.Series(y_list[0:20]).apply(lambda x:stats.entropy(x) )\n",
    "u1_acc_mean['z_Shanon Entropoy'] = pd.Series(z_list[0:20]).apply(lambda x: stats.entropy(x))"
   ]
  },
  {
   "cell_type": "code",
   "execution_count": 157,
   "id": "dca74edf",
   "metadata": {},
   "outputs": [],
   "source": [
    "u2_acc_mean['x_Shanon Entropoy'] = pd.Series(x_list[0:8]).apply(lambda x: stats.entropy(x))\n",
    "u2_acc_mean['y_Shanon Entropoy'] = pd.Series(y_list[0:20]).apply(lambda x:stats.entropy(x) )\n",
    "u2_acc_mean['z_Shanon Entropoy'] = pd.Series(z_list[0:20]).apply(lambda x: stats.entropy(x))"
   ]
  },
  {
   "cell_type": "code",
   "execution_count": 158,
   "id": "e730f2d4",
   "metadata": {},
   "outputs": [],
   "source": [
    "u3_acc_mean['x_Shanon Entropoy'] = pd.Series(x_list[0:8]).apply(lambda x: stats.entropy(x))\n",
    "u3_acc_mean['y_Shanon Entropoy'] = pd.Series(y_list[0:20]).apply(lambda x:stats.entropy(x) )\n",
    "u3_acc_mean['z_Shanon Entropoy'] = pd.Series(z_list[0:20]).apply(lambda x: stats.entropy(x))"
   ]
  },
  {
   "cell_type": "code",
   "execution_count": 159,
   "id": "e21cd455",
   "metadata": {},
   "outputs": [],
   "source": [
    "u4_acc_mean['x_Shanon Entropoy'] = pd.Series(x_list[0:8]).apply(lambda x: stats.entropy(x))\n",
    "u4_acc_mean['y_Shanon Entropoy'] = pd.Series(y_list[0:20]).apply(lambda x:stats.entropy(x) )\n",
    "u4_acc_mean['z_Shanon Entropoy'] = pd.Series(z_list[0:20]).apply(lambda x: stats.entropy(x))"
   ]
  },
  {
   "cell_type": "code",
   "execution_count": 160,
   "id": "4de0cbdc",
   "metadata": {},
   "outputs": [],
   "source": [
    "u5_acc_mean['x_Shanon Entropoy'] = pd.Series(x_list[0:8]).apply(lambda x: stats.entropy(x))\n",
    "u5_acc_mean['y_Shanon Entropoy'] = pd.Series(y_list[0:20]).apply(lambda x:stats.entropy(x) )\n",
    "u5_acc_mean['z_Shanon Entropoy'] = pd.Series(z_list[0:20]).apply(lambda x: stats.entropy(x))"
   ]
  },
  {
   "cell_type": "code",
   "execution_count": 161,
   "id": "20c7ff1a",
   "metadata": {},
   "outputs": [],
   "source": [
    "u6_acc_mean['x_Shanon Entropoy'] = pd.Series(x_list[0:8]).apply(lambda x: stats.entropy(x))\n",
    "u6_acc_mean['y_Shanon Entropoy'] = pd.Series(y_list[0:20]).apply(lambda x:stats.entropy(x) )\n",
    "u6_acc_mean['z_Shanon Entropoy'] = pd.Series(z_list[0:20]).apply(lambda x: stats.entropy(x))"
   ]
  },
  {
   "cell_type": "code",
   "execution_count": 162,
   "id": "d727c5d7",
   "metadata": {},
   "outputs": [],
   "source": [
    "u7_acc_mean['x_Shanon Entropoy'] = pd.Series(x_list[0:8]).apply(lambda x: stats.entropy(x))\n",
    "u7_acc_mean['y_Shanon Entropoy'] = pd.Series(y_list[0:20]).apply(lambda x:stats.entropy(x) )\n",
    "u7_acc_mean['z_Shanon Entropoy'] = pd.Series(z_list[0:20]).apply(lambda x: stats.entropy(x))"
   ]
  },
  {
   "cell_type": "code",
   "execution_count": 163,
   "id": "c2606daa",
   "metadata": {},
   "outputs": [],
   "source": [
    "u8_acc_mean['x_Shanon Entropoy'] = pd.Series(x_list[0:8]).apply(lambda x: stats.entropy(x))\n",
    "u8_acc_mean['y_Shanon Entropoy'] = pd.Series(y_list[0:20]).apply(lambda x:stats.entropy(x) )\n",
    "u8_acc_mean['z_Shanon Entropoy'] = pd.Series(z_list[0:20]).apply(lambda x: stats.entropy(x))"
   ]
  },
  {
   "cell_type": "code",
   "execution_count": 164,
   "id": "3f0a07fa",
   "metadata": {},
   "outputs": [],
   "source": [
    "u9_acc_mean['x_Shanon Entropoy'] = pd.Series(x_list[0:8]).apply(lambda x: stats.entropy(x))\n",
    "u9_acc_mean['y_Shanon Entropoy'] = pd.Series(y_list[0:20]).apply(lambda x:stats.entropy(x) )\n",
    "u9_acc_mean['z_Shanon Entropoy'] = pd.Series(z_list[0:20]).apply(lambda x: stats.entropy(x))"
   ]
  },
  {
   "cell_type": "code",
   "execution_count": 165,
   "id": "ad63d208",
   "metadata": {},
   "outputs": [],
   "source": [
    "u10_acc_mean['x_Shanon Entropoy'] = pd.Series(x_list[0:8]).apply(lambda x: stats.entropy(x))\n",
    "u10_acc_mean['y_Shanon Entropoy'] = pd.Series(y_list[0:20]).apply(lambda x:stats.entropy(x) )\n",
    "u10_acc_mean['z_Shanon Entropoy'] = pd.Series(z_list[0:20]).apply(lambda x: stats.entropy(x))"
   ]
  },
  {
   "cell_type": "code",
   "execution_count": 166,
   "id": "3a408af7",
   "metadata": {},
   "outputs": [],
   "source": [
    "u11_acc_mean['x_Shanon Entropoy'] = pd.Series(x_list[0:8]).apply(lambda x: stats.entropy(x))\n",
    "u11_acc_mean['y_Shanon Entropoy'] = pd.Series(y_list[0:20]).apply(lambda x:stats.entropy(x) )\n",
    "u11_acc_mean['z_Shanon Entropoy'] = pd.Series(z_list[0:20]).apply(lambda x: stats.entropy(x))"
   ]
  },
  {
   "cell_type": "code",
   "execution_count": 167,
   "id": "4238c204",
   "metadata": {},
   "outputs": [],
   "source": [
    "u12_acc_mean['x_Shanon Entropoy'] = pd.Series(x_list[0:8]).apply(lambda x: stats.entropy(x))\n",
    "u12_acc_mean['y_Shanon Entropoy'] = pd.Series(y_list[0:20]).apply(lambda x:stats.entropy(x) )\n",
    "u12_acc_mean['z_Shanon Entropoy'] = pd.Series(z_list[0:20]).apply(lambda x: stats.entropy(x))"
   ]
  },
  {
   "cell_type": "code",
   "execution_count": 168,
   "id": "8eecff10",
   "metadata": {},
   "outputs": [],
   "source": [
    "u13_acc_mean['x_Shanon Entropoy'] = pd.Series(x_list[0:8]).apply(lambda x: stats.entropy(x))\n",
    "u13_acc_mean['y_Shanon Entropoy'] = pd.Series(y_list[0:20]).apply(lambda x:stats.entropy(x) )\n",
    "u13_acc_mean['z_Shanon Entropoy'] = pd.Series(z_list[0:20]).apply(lambda x: stats.entropy(x))"
   ]
  },
  {
   "cell_type": "code",
   "execution_count": 169,
   "id": "6d5351ec",
   "metadata": {},
   "outputs": [],
   "source": [
    "u14_acc_mean['x_Shanon Entropoy'] = pd.Series(x_list[0:8]).apply(lambda x: stats.entropy(x))\n",
    "u14_acc_mean['y_Shanon Entropoy'] = pd.Series(y_list[0:20]).apply(lambda x:stats.entropy(x) )\n",
    "u14_acc_mean['z_Shanon Entropoy'] = pd.Series(z_list[0:20]).apply(lambda x: stats.entropy(x))"
   ]
  },
  {
   "cell_type": "code",
   "execution_count": 170,
   "id": "a63fc85b",
   "metadata": {},
   "outputs": [],
   "source": [
    "u15_acc_mean['x_Shanon Entropoy'] = pd.Series(x_list[0:8]).apply(lambda x: stats.entropy(x))\n",
    "u15_acc_mean['y_Shanon Entropoy'] = pd.Series(y_list[0:20]).apply(lambda x:stats.entropy(x) )\n",
    "u15_acc_mean['z_Shanon Entropoy'] = pd.Series(z_list[0:20]).apply(lambda x: stats.entropy(x))"
   ]
  },
  {
   "cell_type": "code",
   "execution_count": 171,
   "id": "0de51484",
   "metadata": {},
   "outputs": [],
   "source": [
    "\n",
    "u0_acc_mean['x_energy'] = pd.Series(x_list[0:8]).apply(lambda x: np.sum(x**2)/100)\n",
    "u0_acc_mean['y_energy'] = pd.Series(y_list[0:20]).apply(lambda x:np.sum(x**2)/100 )\n",
    "u0_acc_mean['z_energy'] = pd.Series(z_list[0:20]).apply(lambda x:np.sum(x**2)/100)"
   ]
  },
  {
   "cell_type": "code",
   "execution_count": 172,
   "id": "10319f44",
   "metadata": {},
   "outputs": [],
   "source": [
    "u1_acc_mean['x_energy'] = pd.Series(x_list[0:8]).apply(lambda x: np.sum(x**2)/100)\n",
    "u1_acc_mean['y_energy'] = pd.Series(y_list[0:20]).apply(lambda x:np.sum(x**2)/100 )\n",
    "u1_acc_mean['z_energy'] = pd.Series(z_list[0:20]).apply(lambda x:np.sum(x**2)/100)"
   ]
  },
  {
   "cell_type": "code",
   "execution_count": 173,
   "id": "6523adb1",
   "metadata": {},
   "outputs": [],
   "source": [
    "u2_acc_mean['x_energy'] = pd.Series(x_list[0:8]).apply(lambda x: np.sum(x**2)/100)\n",
    "u2_acc_mean['y_energy'] = pd.Series(y_list[0:20]).apply(lambda x:np.sum(x**2)/100 )\n",
    "u2_acc_mean['z_energy'] = pd.Series(z_list[0:20]).apply(lambda x:np.sum(x**2)/100)"
   ]
  },
  {
   "cell_type": "code",
   "execution_count": 174,
   "id": "4d480225",
   "metadata": {},
   "outputs": [],
   "source": [
    "u3_acc_mean['x_energy'] = pd.Series(x_list[0:8]).apply(lambda x: np.sum(x**2)/100)\n",
    "u3_acc_mean['y_energy'] = pd.Series(y_list[0:20]).apply(lambda x:np.sum(x**2)/100 )\n",
    "u3_acc_mean['z_energy'] = pd.Series(z_list[0:20]).apply(lambda x:np.sum(x**2)/100)"
   ]
  },
  {
   "cell_type": "code",
   "execution_count": 175,
   "id": "cdc9ff8a",
   "metadata": {},
   "outputs": [],
   "source": [
    "u4_acc_mean['x_energy'] = pd.Series(x_list[0:8]).apply(lambda x: np.sum(x**2)/100)\n",
    "u4_acc_mean['y_energy'] = pd.Series(y_list[0:20]).apply(lambda x:np.sum(x**2)/100 )\n",
    "u4_acc_mean['z_energy'] = pd.Series(z_list[0:20]).apply(lambda x:np.sum(x**2)/100)"
   ]
  },
  {
   "cell_type": "code",
   "execution_count": 176,
   "id": "71db4fab",
   "metadata": {},
   "outputs": [],
   "source": [
    "u5_acc_mean['x_energy'] = pd.Series(x_list[0:8]).apply(lambda x: np.sum(x**2)/100)\n",
    "u5_acc_mean['y_energy'] = pd.Series(y_list[0:20]).apply(lambda x:np.sum(x**2)/100 )\n",
    "u5_acc_mean['z_energy'] = pd.Series(z_list[0:20]).apply(lambda x:np.sum(x**2)/100)"
   ]
  },
  {
   "cell_type": "code",
   "execution_count": 177,
   "id": "184b9557",
   "metadata": {},
   "outputs": [],
   "source": [
    "u6_acc_mean['x_energy'] = pd.Series(x_list[0:8]).apply(lambda x: np.sum(x**2)/100)\n",
    "u6_acc_mean['y_energy'] = pd.Series(y_list[0:20]).apply(lambda x:np.sum(x**2)/100 )\n",
    "u6_acc_mean['z_energy'] = pd.Series(z_list[0:20]).apply(lambda x:np.sum(x**2)/100)"
   ]
  },
  {
   "cell_type": "code",
   "execution_count": 178,
   "id": "5d6ddcbf",
   "metadata": {},
   "outputs": [],
   "source": [
    "u7_acc_mean['x_energy'] = pd.Series(x_list[0:8]).apply(lambda x: np.sum(x**2)/100)\n",
    "u7_acc_mean['y_energy'] = pd.Series(y_list[0:20]).apply(lambda x:np.sum(x**2)/100 )\n",
    "u7_acc_mean['z_energy'] = pd.Series(z_list[0:20]).apply(lambda x:np.sum(x**2)/100)"
   ]
  },
  {
   "cell_type": "code",
   "execution_count": 179,
   "id": "5dcb8bc2",
   "metadata": {},
   "outputs": [],
   "source": [
    "u8_acc_mean['x_energy'] = pd.Series(x_list[0:8]).apply(lambda x: np.sum(x**2)/100)\n",
    "u8_acc_mean['y_energy'] = pd.Series(y_list[0:20]).apply(lambda x:np.sum(x**2)/100 )\n",
    "u8_acc_mean['z_energy'] = pd.Series(z_list[0:20]).apply(lambda x:np.sum(x**2)/100)"
   ]
  },
  {
   "cell_type": "code",
   "execution_count": 180,
   "id": "a82da04a",
   "metadata": {},
   "outputs": [],
   "source": [
    "u9_acc_mean['x_energy'] = pd.Series(x_list[0:8]).apply(lambda x: np.sum(x**2)/100)\n",
    "u9_acc_mean['y_energy'] = pd.Series(y_list[0:20]).apply(lambda x:np.sum(x**2)/100 )\n",
    "u9_acc_mean['z_energy'] = pd.Series(z_list[0:20]).apply(lambda x:np.sum(x**2)/100)"
   ]
  },
  {
   "cell_type": "code",
   "execution_count": 181,
   "id": "aa374074",
   "metadata": {},
   "outputs": [],
   "source": [
    "u10_acc_mean['x_energy'] = pd.Series(x_list[0:8]).apply(lambda x: np.sum(x**2)/100)\n",
    "u10_acc_mean['y_energy'] = pd.Series(y_list[0:20]).apply(lambda x:np.sum(x**2)/100 )\n",
    "u10_acc_mean['z_energy'] = pd.Series(z_list[0:20]).apply(lambda x:np.sum(x**2)/100)"
   ]
  },
  {
   "cell_type": "code",
   "execution_count": 182,
   "id": "757203b6",
   "metadata": {},
   "outputs": [],
   "source": [
    "u11_acc_mean['x_energy'] = pd.Series(x_list[0:8]).apply(lambda x: np.sum(x**2)/100)\n",
    "u11_acc_mean['y_energy'] = pd.Series(y_list[0:20]).apply(lambda x:np.sum(x**2)/100 )\n",
    "u11_acc_mean['z_energy'] = pd.Series(z_list[0:20]).apply(lambda x:np.sum(x**2)/100)"
   ]
  },
  {
   "cell_type": "code",
   "execution_count": 183,
   "id": "a060e222",
   "metadata": {},
   "outputs": [],
   "source": [
    "u12_acc_mean['x_energy'] = pd.Series(x_list[0:8]).apply(lambda x: np.sum(x**2)/100)\n",
    "u12_acc_mean['y_energy'] = pd.Series(y_list[0:20]).apply(lambda x:np.sum(x**2)/100 )\n",
    "u12_acc_mean['z_energy'] = pd.Series(z_list[0:20]).apply(lambda x:np.sum(x**2)/100)"
   ]
  },
  {
   "cell_type": "code",
   "execution_count": 184,
   "id": "c12ba2ac",
   "metadata": {},
   "outputs": [],
   "source": [
    "u13_acc_mean['x_energy'] = pd.Series(x_list[0:8]).apply(lambda x: np.sum(x**2)/100)\n",
    "u13_acc_mean['y_energy'] = pd.Series(y_list[0:20]).apply(lambda x:np.sum(x**2)/100 )\n",
    "u13_acc_mean['z_energy'] = pd.Series(z_list[0:20]).apply(lambda x:np.sum(x**2)/100)"
   ]
  },
  {
   "cell_type": "code",
   "execution_count": 185,
   "id": "e507e02d",
   "metadata": {},
   "outputs": [],
   "source": [
    "u14_acc_mean['x_energy'] = pd.Series(x_list[0:8]).apply(lambda x: np.sum(x**2)/100)\n",
    "u14_acc_mean['y_energy'] = pd.Series(y_list[0:20]).apply(lambda x:np.sum(x**2)/100 )\n",
    "u14_acc_mean['z_energy'] = pd.Series(z_list[0:20]).apply(lambda x:np.sum(x**2)/100)"
   ]
  },
  {
   "cell_type": "code",
   "execution_count": 186,
   "id": "5593de4c",
   "metadata": {},
   "outputs": [],
   "source": [
    "u15_acc_mean['x_energy'] = pd.Series(x_list[0:8]).apply(lambda x: np.sum(x**2)/100)\n",
    "u15_acc_mean['y_energy'] = pd.Series(y_list[0:20]).apply(lambda x:np.sum(x**2)/100 )\n",
    "u15_acc_mean['z_energy'] = pd.Series(z_list[0:20]).apply(lambda x:np.sum(x**2)/100)"
   ]
  },
  {
   "cell_type": "code",
   "execution_count": 187,
   "id": "56215bec",
   "metadata": {},
   "outputs": [],
   "source": [
    "mean_acc_alluser = []\n",
    "mean_acc_alluser.append(u0_acc_mean['x_mean_fft'])\n",
    "mean_acc_alluser.append(u0_acc_mean['y_mean_fft'])\n",
    "mean_acc_alluser.append(u0_acc_mean['z_mean_fft'])\n",
    "mean_acc_alluser.append(u1_acc_mean['x_mean_fft'])\n",
    "mean_acc_alluser.append(u1_acc_mean['y_mean_fft'])\n",
    "mean_acc_alluser.append(u1_acc_mean['z_mean_fft'])\n",
    "mean_acc_alluser.append(u2_acc_mean['x_mean_fft'])\n",
    "mean_acc_alluser.append(u2_acc_mean['y_mean_fft'])\n",
    "mean_acc_alluser.append(u2_acc_mean['z_mean_fft'])\n",
    "mean_acc_alluser.append(u3_acc_mean['x_mean_fft'])\n",
    "mean_acc_alluser.append(u3_acc_mean['y_mean_fft'])\n",
    "mean_acc_alluser.append(u3_acc_mean['z_mean_fft'])\n",
    "mean_acc_alluser.append(u4_acc_mean['x_mean_fft'])\n",
    "mean_acc_alluser.append(u4_acc_mean['y_mean_fft'])\n",
    "mean_acc_alluser.append(u4_acc_mean['z_mean_fft'])\n",
    "mean_acc_alluser.append(u5_acc_mean['x_mean_fft'])\n",
    "mean_acc_alluser.append(u5_acc_mean['y_mean_fft'])\n",
    "mean_acc_alluser.append(u5_acc_mean['z_mean_fft'])\n",
    "mean_acc_alluser.append(u6_acc_mean['x_mean_fft'])\n",
    "mean_acc_alluser.append(u6_acc_mean['y_mean_fft'])\n",
    "mean_acc_alluser.append(u6_acc_mean['z_mean_fft'])\n",
    "mean_acc_alluser.append(u7_acc_mean['x_mean_fft'])\n",
    "mean_acc_alluser.append(u7_acc_mean['y_mean_fft'])\n",
    "mean_acc_alluser.append(u7_acc_mean['z_mean_fft'])\n",
    "mean_acc_alluser.append(u8_acc_mean['x_mean_fft'])\n",
    "mean_acc_alluser.append(u8_acc_mean['y_mean_fft'])\n",
    "mean_acc_alluser.append(u8_acc_mean['z_mean_fft'])\n",
    "mean_acc_alluser.append(u9_acc_mean['x_mean_fft'])\n",
    "mean_acc_alluser.append(u9_acc_mean['y_mean_fft'])\n",
    "mean_acc_alluser.append(u9_acc_mean['z_mean_fft'])\n",
    "mean_acc_alluser.append(u10_acc_mean['x_mean_fft'])\n",
    "mean_acc_alluser.append(u10_acc_mean['y_mean_fft'])\n",
    "mean_acc_alluser.append(u10_acc_mean['z_mean_fft'])\n",
    "mean_acc_alluser.append(u11_acc_mean['x_mean_fft'])\n",
    "mean_acc_alluser.append(u11_acc_mean['y_mean_fft'])\n",
    "mean_acc_alluser.append(u11_acc_mean['z_mean_fft'])\n",
    "mean_acc_alluser.append(u12_acc_mean['x_mean_fft'])\n",
    "mean_acc_alluser.append(u12_acc_mean['y_mean_fft'])\n",
    "mean_acc_alluser.append(u12_acc_mean['z_mean_fft'])\n",
    "mean_acc_alluser.append(u13_acc_mean['x_mean_fft'])\n",
    "mean_acc_alluser.append(u13_acc_mean['y_mean_fft'])\n",
    "mean_acc_alluser.append(u13_acc_mean['z_mean_fft'])\n",
    "mean_acc_alluser.append(u14_acc_mean['x_mean_fft'])\n",
    "mean_acc_alluser.append(u14_acc_mean['y_mean_fft'])\n",
    "mean_acc_alluser.append(u14_acc_mean['z_mean_fft'])\n",
    "mean_acc_alluser.append(u15_acc_mean['x_mean_fft'])\n",
    "mean_acc_alluser.append(u15_acc_mean['y_mean_fft'])\n",
    "mean_acc_alluser.append(u15_acc_mean['z_mean_fft'])\n"
   ]
  },
  {
   "cell_type": "code",
   "execution_count": 188,
   "id": "01dde0b1",
   "metadata": {},
   "outputs": [],
   "source": [
    "skewness_acc_alluser=[]\n",
    "skewness_acc_alluser.append(u0_acc_mean['x_skewness_fft']) \n",
    "skewness_acc_alluser.append(u0_acc_mean['y_skewness_fft']) \n",
    "skewness_acc_alluser.append(u0_acc_mean['z_skewness_fft']) \n",
    "skewness_acc_alluser.append(u1_acc_mean['x_skewness_fft']) \n",
    "skewness_acc_alluser.append(u1_acc_mean['y_skewness_fft']) \n",
    "skewness_acc_alluser.append(u1_acc_mean['z_skewness_fft']) \n",
    "skewness_acc_alluser.append(u2_acc_mean['x_skewness_fft']) \n",
    "skewness_acc_alluser.append(u2_acc_mean['y_skewness_fft']) \n",
    "skewness_acc_alluser.append(u2_acc_mean['z_skewness_fft']) \n",
    "skewness_acc_alluser.append(u3_acc_mean['x_skewness_fft']) \n",
    "skewness_acc_alluser.append(u3_acc_mean['y_skewness_fft']) \n",
    "skewness_acc_alluser.append(u3_acc_mean['z_skewness_fft']) \n",
    "skewness_acc_alluser.append(u4_acc_mean['x_skewness_fft']) \n",
    "skewness_acc_alluser.append(u4_acc_mean['y_skewness_fft']) \n",
    "skewness_acc_alluser.append(u4_acc_mean['z_skewness_fft']) \n",
    "skewness_acc_alluser.append(u5_acc_mean['x_skewness_fft']) \n",
    "skewness_acc_alluser.append(u5_acc_mean['y_skewness_fft']) \n",
    "skewness_acc_alluser.append(u5_acc_mean['z_skewness_fft']) \n",
    "skewness_acc_alluser.append(u6_acc_mean['x_skewness_fft']) \n",
    "skewness_acc_alluser.append(u6_acc_mean['y_skewness_fft']) \n",
    "skewness_acc_alluser.append(u6_acc_mean['z_skewness_fft']) \n",
    "skewness_acc_alluser.append(u7_acc_mean['x_skewness_fft']) \n",
    "skewness_acc_alluser.append(u7_acc_mean['y_skewness_fft']) \n",
    "skewness_acc_alluser.append(u7_acc_mean['z_skewness_fft']) \n",
    "skewness_acc_alluser.append(u8_acc_mean['x_skewness_fft']) \n",
    "skewness_acc_alluser.append(u8_acc_mean['y_skewness_fft']) \n",
    "skewness_acc_alluser.append(u8_acc_mean['z_skewness_fft']) \n",
    "skewness_acc_alluser.append(u9_acc_mean['x_skewness_fft']) \n",
    "skewness_acc_alluser.append(u9_acc_mean['y_skewness_fft']) \n",
    "skewness_acc_alluser.append(u9_acc_mean['z_skewness_fft']) \n",
    "skewness_acc_alluser.append(u10_acc_mean['x_skewness_fft']) \n",
    "skewness_acc_alluser.append(u10_acc_mean['y_skewness_fft']) \n",
    "skewness_acc_alluser.append(u10_acc_mean['z_skewness_fft']) \n",
    "skewness_acc_alluser.append(u11_acc_mean['x_skewness_fft']) \n",
    "skewness_acc_alluser.append(u11_acc_mean['y_skewness_fft']) \n",
    "skewness_acc_alluser.append(u11_acc_mean['z_skewness_fft']) \n",
    "skewness_acc_alluser.append(u12_acc_mean['x_skewness_fft']) \n",
    "skewness_acc_alluser.append(u12_acc_mean['y_skewness_fft']) \n",
    "skewness_acc_alluser.append(u12_acc_mean['z_skewness_fft']) \n",
    "skewness_acc_alluser.append(u13_acc_mean['x_skewness_fft']) \n",
    "skewness_acc_alluser.append(u13_acc_mean['y_skewness_fft']) \n",
    "skewness_acc_alluser.append(u13_acc_mean['z_skewness_fft']) \n",
    "skewness_acc_alluser.append(u14_acc_mean['x_skewness_fft']) \n",
    "skewness_acc_alluser.append(u14_acc_mean['y_skewness_fft']) \n",
    "skewness_acc_alluser.append(u14_acc_mean['z_skewness_fft']) \n",
    "skewness_acc_alluser.append(u15_acc_mean['x_skewness_fft']) \n",
    "skewness_acc_alluser.append(u15_acc_mean['y_skewness_fft']) \n",
    "skewness_acc_alluser.append(u15_acc_mean['z_skewness_fft']) "
   ]
  },
  {
   "cell_type": "code",
   "execution_count": 189,
   "id": "e8edc790",
   "metadata": {},
   "outputs": [],
   "source": [
    "std_acc_alluser=[]\n",
    "std_acc_alluser.append(u0_acc_mean['x_std'])\n",
    "std_acc_alluser.append(u0_acc_mean['y_std'])\n",
    "std_acc_alluser.append(u0_acc_mean['z_std'])\n",
    "std_acc_alluser.append(u1_acc_mean['x_std'])\n",
    "std_acc_alluser.append(u1_acc_mean['y_std'])\n",
    "std_acc_alluser.append(u1_acc_mean['z_std'])\n",
    "std_acc_alluser.append(u2_acc_mean['x_std'])\n",
    "std_acc_alluser.append(u2_acc_mean['y_std'])\n",
    "std_acc_alluser.append(u2_acc_mean['z_std'])\n",
    "std_acc_alluser.append(u3_acc_mean['x_std'])\n",
    "std_acc_alluser.append(u3_acc_mean['y_std'])\n",
    "std_acc_alluser.append(u3_acc_mean['z_std'])\n",
    "std_acc_alluser.append(u4_acc_mean['x_std'])\n",
    "std_acc_alluser.append(u4_acc_mean['y_std'])\n",
    "std_acc_alluser.append(u4_acc_mean['z_std'])\n",
    "std_acc_alluser.append(u5_acc_mean['x_std'])\n",
    "std_acc_alluser.append(u5_acc_mean['y_std'])\n",
    "std_acc_alluser.append(u5_acc_mean['z_std'])\n",
    "std_acc_alluser.append(u6_acc_mean['x_std'])\n",
    "std_acc_alluser.append(u6_acc_mean['y_std'])\n",
    "std_acc_alluser.append(u6_acc_mean['z_std'])\n",
    "std_acc_alluser.append(u7_acc_mean['x_std'])\n",
    "std_acc_alluser.append(u7_acc_mean['y_std'])\n",
    "std_acc_alluser.append(u7_acc_mean['z_std'])\n",
    "std_acc_alluser.append(u8_acc_mean['x_std'])\n",
    "std_acc_alluser.append(u8_acc_mean['y_std'])\n",
    "std_acc_alluser.append(u8_acc_mean['z_std'])\n",
    "std_acc_alluser.append(u9_acc_mean['x_std'])\n",
    "std_acc_alluser.append(u9_acc_mean['y_std'])\n",
    "std_acc_alluser.append(u9_acc_mean['z_std'])\n",
    "std_acc_alluser.append(u10_acc_mean['x_std'])\n",
    "std_acc_alluser.append(u10_acc_mean['y_std'])\n",
    "std_acc_alluser.append(u10_acc_mean['z_std'])\n",
    "std_acc_alluser.append(u11_acc_mean['x_std'])\n",
    "std_acc_alluser.append(u11_acc_mean['y_std'])\n",
    "std_acc_alluser.append(u11_acc_mean['z_std'])\n",
    "std_acc_alluser.append(u12_acc_mean['x_std'])\n",
    "std_acc_alluser.append(u12_acc_mean['y_std'])\n",
    "std_acc_alluser.append(u12_acc_mean['z_std'])\n",
    "std_acc_alluser.append(u13_acc_mean['x_std'])\n",
    "std_acc_alluser.append(u13_acc_mean['y_std'])\n",
    "std_acc_alluser.append(u13_acc_mean['z_std'])\n",
    "std_acc_alluser.append(u14_acc_mean['x_std'])\n",
    "std_acc_alluser.append(u14_acc_mean['y_std'])\n",
    "std_acc_alluser.append(u14_acc_mean['z_std'])\n",
    "std_acc_alluser.append(u15_acc_mean['x_std'])\n",
    "std_acc_alluser.append(u15_acc_mean['y_std'])\n",
    "std_acc_alluser.append(u15_acc_mean['z_std'])"
   ]
  },
  {
   "cell_type": "code",
   "execution_count": 190,
   "id": "77c4e618",
   "metadata": {},
   "outputs": [],
   "source": [
    "sma_acc_alluser=[]\n",
    "sma_acc_alluser.append(u0_acc_mean['sma_fft_x'])\n",
    "sma_acc_alluser.append(u0_acc_mean['sma_fft_y'])\n",
    "sma_acc_alluser.append(u0_acc_mean['sma_fft_z'])\n",
    "sma_acc_alluser.append(u1_acc_mean['sma_fft_x'])\n",
    "sma_acc_alluser.append(u1_acc_mean['sma_fft_y'])\n",
    "sma_acc_alluser.append(u1_acc_mean['sma_fft_z'])\n",
    "sma_acc_alluser.append(u2_acc_mean['sma_fft_x'])\n",
    "sma_acc_alluser.append(u2_acc_mean['sma_fft_y'])\n",
    "sma_acc_alluser.append(u2_acc_mean['sma_fft_z'])\n",
    "sma_acc_alluser.append(u3_acc_mean['sma_fft_x'])\n",
    "sma_acc_alluser.append(u3_acc_mean['sma_fft_y'])\n",
    "sma_acc_alluser.append(u3_acc_mean['sma_fft_z'])\n",
    "sma_acc_alluser.append(u4_acc_mean['sma_fft_x'])\n",
    "sma_acc_alluser.append(u4_acc_mean['sma_fft_y'])\n",
    "sma_acc_alluser.append(u4_acc_mean['sma_fft_z'])\n",
    "sma_acc_alluser.append(u5_acc_mean['sma_fft_x'])\n",
    "sma_acc_alluser.append(u5_acc_mean['sma_fft_y'])\n",
    "sma_acc_alluser.append(u5_acc_mean['sma_fft_z'])\n",
    "sma_acc_alluser.append(u6_acc_mean['sma_fft_x'])\n",
    "sma_acc_alluser.append(u6_acc_mean['sma_fft_y'])\n",
    "sma_acc_alluser.append(u6_acc_mean['sma_fft_z'])\n",
    "sma_acc_alluser.append(u7_acc_mean['sma_fft_x'])\n",
    "sma_acc_alluser.append(u7_acc_mean['sma_fft_y'])\n",
    "sma_acc_alluser.append(u7_acc_mean['sma_fft_z'])\n",
    "sma_acc_alluser.append(u8_acc_mean['sma_fft_x'])\n",
    "sma_acc_alluser.append(u8_acc_mean['sma_fft_y'])\n",
    "sma_acc_alluser.append(u8_acc_mean['sma_fft_z'])\n",
    "sma_acc_alluser.append(u9_acc_mean['sma_fft_x'])\n",
    "sma_acc_alluser.append(u9_acc_mean['sma_fft_y'])\n",
    "sma_acc_alluser.append(u9_acc_mean['sma_fft_z'])\n",
    "sma_acc_alluser.append(u10_acc_mean['sma_fft_x'])\n",
    "sma_acc_alluser.append(u10_acc_mean['sma_fft_y'])\n",
    "sma_acc_alluser.append(u10_acc_mean['sma_fft_z'])\n",
    "sma_acc_alluser.append(u11_acc_mean['sma_fft_x'])\n",
    "sma_acc_alluser.append(u11_acc_mean['sma_fft_y'])\n",
    "sma_acc_alluser.append(u11_acc_mean['sma_fft_z'])\n",
    "sma_acc_alluser.append(u12_acc_mean['sma_fft_x'])\n",
    "sma_acc_alluser.append(u12_acc_mean['sma_fft_y'])\n",
    "sma_acc_alluser.append(u12_acc_mean['sma_fft_z'])\n",
    "sma_acc_alluser.append(u13_acc_mean['sma_fft_x'])\n",
    "sma_acc_alluser.append(u13_acc_mean['sma_fft_y'])\n",
    "sma_acc_alluser.append(u13_acc_mean['sma_fft_z'])\n",
    "sma_acc_alluser.append(u14_acc_mean['sma_fft_x'])\n",
    "sma_acc_alluser.append(u14_acc_mean['sma_fft_y'])\n",
    "sma_acc_alluser.append(u14_acc_mean['sma_fft_z'])\n",
    "sma_acc_alluser.append(u15_acc_mean['sma_fft_x'])\n",
    "sma_acc_alluser.append(u15_acc_mean['sma_fft_y'])\n",
    "sma_acc_alluser.append(u15_acc_mean['sma_fft_z'])"
   ]
  },
  {
   "cell_type": "code",
   "execution_count": 191,
   "id": "d17c270f",
   "metadata": {},
   "outputs": [],
   "source": [
    "shannon_acc_alluser=[]\n",
    "shannon_acc_alluser.append(u0_acc_mean['x_Shanon Entropoy'])\n",
    "shannon_acc_alluser.append(u0_acc_mean['y_Shanon Entropoy'])\n",
    "shannon_acc_alluser.append(u0_acc_mean['z_Shanon Entropoy'])\n",
    "shannon_acc_alluser.append(u1_acc_mean['x_Shanon Entropoy'])\n",
    "shannon_acc_alluser.append(u1_acc_mean['y_Shanon Entropoy'])\n",
    "shannon_acc_alluser.append(u1_acc_mean['z_Shanon Entropoy'])\n",
    "shannon_acc_alluser.append(u2_acc_mean['x_Shanon Entropoy'])\n",
    "shannon_acc_alluser.append(u2_acc_mean['y_Shanon Entropoy'])\n",
    "shannon_acc_alluser.append(u2_acc_mean['z_Shanon Entropoy'])\n",
    "shannon_acc_alluser.append(u3_acc_mean['x_Shanon Entropoy'])\n",
    "shannon_acc_alluser.append(u3_acc_mean['y_Shanon Entropoy'])\n",
    "shannon_acc_alluser.append(u3_acc_mean['z_Shanon Entropoy'])\n",
    "shannon_acc_alluser.append(u4_acc_mean['x_Shanon Entropoy'])\n",
    "shannon_acc_alluser.append(u4_acc_mean['y_Shanon Entropoy'])\n",
    "shannon_acc_alluser.append(u4_acc_mean['z_Shanon Entropoy'])\n",
    "shannon_acc_alluser.append(u5_acc_mean['x_Shanon Entropoy'])\n",
    "shannon_acc_alluser.append(u5_acc_mean['y_Shanon Entropoy'])\n",
    "shannon_acc_alluser.append(u5_acc_mean['z_Shanon Entropoy'])\n",
    "shannon_acc_alluser.append(u6_acc_mean['x_Shanon Entropoy'])\n",
    "shannon_acc_alluser.append(u6_acc_mean['y_Shanon Entropoy'])\n",
    "shannon_acc_alluser.append(u6_acc_mean['z_Shanon Entropoy'])\n",
    "shannon_acc_alluser.append(u7_acc_mean['x_Shanon Entropoy'])\n",
    "shannon_acc_alluser.append(u7_acc_mean['y_Shanon Entropoy'])\n",
    "shannon_acc_alluser.append(u7_acc_mean['z_Shanon Entropoy'])\n",
    "shannon_acc_alluser.append(u8_acc_mean['x_Shanon Entropoy'])\n",
    "shannon_acc_alluser.append(u8_acc_mean['y_Shanon Entropoy'])\n",
    "shannon_acc_alluser.append(u8_acc_mean['z_Shanon Entropoy'])\n",
    "shannon_acc_alluser.append(u9_acc_mean['x_Shanon Entropoy'])\n",
    "shannon_acc_alluser.append(u9_acc_mean['y_Shanon Entropoy'])\n",
    "shannon_acc_alluser.append(u9_acc_mean['z_Shanon Entropoy'])\n",
    "shannon_acc_alluser.append(u10_acc_mean['x_Shanon Entropoy'])\n",
    "shannon_acc_alluser.append(u10_acc_mean['y_Shanon Entropoy'])\n",
    "shannon_acc_alluser.append(u10_acc_mean['z_Shanon Entropoy'])\n",
    "shannon_acc_alluser.append(u11_acc_mean['x_Shanon Entropoy'])\n",
    "shannon_acc_alluser.append(u11_acc_mean['y_Shanon Entropoy'])\n",
    "shannon_acc_alluser.append(u11_acc_mean['z_Shanon Entropoy'])\n",
    "shannon_acc_alluser.append(u12_acc_mean['x_Shanon Entropoy'])\n",
    "shannon_acc_alluser.append(u12_acc_mean['y_Shanon Entropoy'])\n",
    "shannon_acc_alluser.append(u12_acc_mean['z_Shanon Entropoy'])\n",
    "shannon_acc_alluser.append(u13_acc_mean['x_Shanon Entropoy'])\n",
    "shannon_acc_alluser.append(u13_acc_mean['y_Shanon Entropoy'])\n",
    "shannon_acc_alluser.append(u13_acc_mean['z_Shanon Entropoy'])\n",
    "shannon_acc_alluser.append(u14_acc_mean['x_Shanon Entropoy'])\n",
    "shannon_acc_alluser.append(u14_acc_mean['y_Shanon Entropoy'])\n",
    "shannon_acc_alluser.append(u14_acc_mean['z_Shanon Entropoy'])\n",
    "shannon_acc_alluser.append(u15_acc_mean['x_Shanon Entropoy'])\n",
    "shannon_acc_alluser.append(u15_acc_mean['y_Shanon Entropoy'])\n",
    "shannon_acc_alluser.append(u15_acc_mean['z_Shanon Entropoy'])"
   ]
  },
  {
   "cell_type": "code",
   "execution_count": 192,
   "id": "64a252e9",
   "metadata": {},
   "outputs": [],
   "source": [
    "energy_acc_alluser=[]\n",
    "energy_acc_alluser.append(u0_acc_mean['x_energy'])\n",
    "energy_acc_alluser.append(u0_acc_mean['y_energy'])\n",
    "energy_acc_alluser.append(u0_acc_mean['z_energy'])\n",
    "energy_acc_alluser.append(u1_acc_mean['x_energy'])\n",
    "energy_acc_alluser.append(u1_acc_mean['y_energy'])\n",
    "energy_acc_alluser.append(u1_acc_mean['z_energy'])\n",
    "energy_acc_alluser.append(u2_acc_mean['x_energy'])\n",
    "energy_acc_alluser.append(u2_acc_mean['y_energy'])\n",
    "energy_acc_alluser.append(u2_acc_mean['z_energy'])\n",
    "energy_acc_alluser.append(u3_acc_mean['x_energy'])\n",
    "energy_acc_alluser.append(u3_acc_mean['y_energy'])\n",
    "energy_acc_alluser.append(u3_acc_mean['z_energy'])\n",
    "energy_acc_alluser.append(u4_acc_mean['x_energy'])\n",
    "energy_acc_alluser.append(u4_acc_mean['y_energy'])\n",
    "energy_acc_alluser.append(u4_acc_mean['z_energy'])\n",
    "energy_acc_alluser.append(u5_acc_mean['x_energy'])\n",
    "energy_acc_alluser.append(u5_acc_mean['y_energy'])\n",
    "energy_acc_alluser.append(u5_acc_mean['z_energy'])\n",
    "energy_acc_alluser.append(u6_acc_mean['x_energy'])\n",
    "energy_acc_alluser.append(u6_acc_mean['y_energy'])\n",
    "energy_acc_alluser.append(u6_acc_mean['z_energy'])\n",
    "energy_acc_alluser.append(u7_acc_mean['x_energy'])\n",
    "energy_acc_alluser.append(u7_acc_mean['y_energy'])\n",
    "energy_acc_alluser.append(u7_acc_mean['z_energy'])\n",
    "energy_acc_alluser.append(u8_acc_mean['x_energy'])\n",
    "energy_acc_alluser.append(u8_acc_mean['y_energy'])\n",
    "energy_acc_alluser.append(u8_acc_mean['z_energy'])\n",
    "energy_acc_alluser.append(u9_acc_mean['x_energy'])\n",
    "energy_acc_alluser.append(u9_acc_mean['y_energy'])\n",
    "energy_acc_alluser.append(u9_acc_mean['z_energy'])\n",
    "energy_acc_alluser.append(u10_acc_mean['x_energy'])\n",
    "energy_acc_alluser.append(u10_acc_mean['y_energy'])\n",
    "energy_acc_alluser.append(u10_acc_mean['z_energy'])\n",
    "energy_acc_alluser.append(u11_acc_mean['x_energy'])\n",
    "energy_acc_alluser.append(u11_acc_mean['y_energy'])\n",
    "energy_acc_alluser.append(u11_acc_mean['z_energy'])\n",
    "energy_acc_alluser.append(u12_acc_mean['x_energy'])\n",
    "energy_acc_alluser.append(u12_acc_mean['y_energy'])\n",
    "energy_acc_alluser.append(u12_acc_mean['z_energy'])\n",
    "energy_acc_alluser.append(u13_acc_mean['x_energy'])\n",
    "energy_acc_alluser.append(u13_acc_mean['y_energy'])\n",
    "energy_acc_alluser.append(u13_acc_mean['z_energy'])\n",
    "energy_acc_alluser.append(u14_acc_mean['x_energy'])\n",
    "energy_acc_alluser.append(u14_acc_mean['y_energy'])\n",
    "energy_acc_alluser.append(u14_acc_mean['z_energy'])\n",
    "energy_acc_alluser.append(u15_acc_mean['x_energy'])\n",
    "energy_acc_alluser.append(u15_acc_mean['y_energy'])\n",
    "energy_acc_alluser.append(u15_acc_mean['z_energy'])"
   ]
  },
  {
   "cell_type": "code",
   "execution_count": 193,
   "id": "85a23e69",
   "metadata": {},
   "outputs": [],
   "source": [
    "all_features = [1]*6\n",
    "for i in range(6):\n",
    "    all_features[i] = np.concatenate((mean_acc_alluser[i],skewness_acc_alluser[i],\n",
    "                                      std_acc_alluser[i],sma_acc_alluser[i],shannon_acc_alluser[i],\n",
    "                                     energy_acc_alluser[i]))"
   ]
  },
  {
   "cell_type": "code",
   "execution_count": 194,
   "id": "a47a1c3d",
   "metadata": {},
   "outputs": [],
   "source": [
    "#remove nan or infs \n",
    "for i in range(6):\n",
    "    all_features[i] = np.nan_to_num(all_features[i])"
   ]
  },
  {
   "cell_type": "code",
   "execution_count": 195,
   "id": "3e0e74aa",
   "metadata": {},
   "outputs": [],
   "source": [
    "X = pd.DataFrame(all_features)"
   ]
  },
  {
   "cell_type": "code",
   "execution_count": 200,
   "id": "c3fe2613",
   "metadata": {},
   "outputs": [],
   "source": [
    "import seaborn\n"
   ]
  },
  {
   "cell_type": "code",
   "execution_count": null,
   "id": "fbbf9d32",
   "metadata": {},
   "outputs": [],
   "source": [
    "graph = seaborn.PairGrid(X, hue ='day')\n",
    "# type of graph for diagonal\n",
    "graph = graph.map_diag(plt.hist)\n",
    "# type of graph for non-diagonal\n",
    "graph = graph.map_offdiag(plt.scatter)\n",
    "# to add legends\n",
    "graph = graph.add_legend()\n",
    "# to show\n",
    "plt.show()\n",
    "# This code is "
   ]
  },
  {
   "cell_type": "code",
   "execution_count": 196,
   "id": "2785da34",
   "metadata": {
    "scrolled": true
   },
   "outputs": [
    {
     "data": {
      "image/png": "[encoded data removed]",
      "text/plain": [
       "<Figure size 432x288 with 1 Axes>"
      ]
     },
     "metadata": {
      "needs_background": "light"
     },
     "output_type": "display_data"
    }
   ],
   "source": [
    "plt.plot(all_features[i], color='blue', marker='o')\n",
    "plt.title('Original  Feature Vector', fontweight='bold')\n",
    "plt.grid()\n"
   ]
  },
  {
   "cell_type": "code",
   "execution_count": 197,
   "id": "b7f51817",
   "metadata": {},
   "outputs": [],
   "source": [
    "from sklearn.preprocessing import PowerTransformer\n",
    "from pandas import DataFrame"
   ]
  },
  {
   "cell_type": "code",
   "execution_count": 198,
   "id": "25a4ef9e",
   "metadata": {},
   "outputs": [
    {
     "name": "stderr",
     "output_type": "stream",
     "text": [
      "/Users/user/opt/anaconda3/lib/python3.8/site-packages/sklearn/preprocessing/_data.py:3202: RuntimeWarning: overflow encountered in power\n",
      "  out[pos] = (np.power(x[pos] + 1, lmbda) - 1) / lmbda\n",
      "/Users/user/opt/anaconda3/lib/python3.8/site-packages/numpy/core/_methods.py:232: RuntimeWarning: overflow encountered in multiply\n",
      "  x = um.multiply(x, x, out=x)\n",
      "/Users/user/opt/anaconda3/lib/python3.8/site-packages/numpy/core/_methods.py:243: RuntimeWarning: overflow encountered in reduce\n",
      "  ret = umr_sum(x, axis, dtype, out, keepdims=keepdims, where=where)\n",
      "/Users/user/opt/anaconda3/lib/python3.8/site-packages/sklearn/preprocessing/_data.py:3237: RuntimeWarning: divide by zero encountered in log\n",
      "  loglike = -n_samples / 2 * np.log(x_trans.var())\n"
     ]
    },
    {
     "data": {
      "image/png": "[encoded data removed]",
      "text/plain": [
       "<Figure size 432x288 with 1 Axes>"
      ]
     },
     "metadata": {
      "needs_background": "light"
     },
     "output_type": "display_data"
    }
   ],
   "source": [
    "pt = PowerTransformer(method='yeo-johnson')\n",
    "data = pt.fit_transform(X[0:100])\n",
    "# histograms of the variables\n",
    "plt.plot(data, color='orange', marker='o')\n",
    "plt.title('Transformed  feature vector', fontweight='bold')\n",
    "plt.grid()"
   ]
  },
  {
   "cell_type": "code",
   "execution_count": null,
   "id": "0920df1d",
   "metadata": {},
   "outputs": [],
   "source": []
  }
 ],
 "metadata": {
  "kernelspec": {
   "display_name": "Python 3",
   "language": "python",
   "name": "python3"
  },
  "language_info": {
   "codemirror_mode": {
    "name": "ipython",
    "version": 3
   },
   "file_extension": ".py",
   "mimetype": "text/x-python",
   "name": "python",
   "nbconvert_exporter": "python",
   "pygments_lexer": "ipython3",
   "version": "3.8.8"
  }
 },
 "nbformat": 4,
 "nbformat_minor": 5
}
